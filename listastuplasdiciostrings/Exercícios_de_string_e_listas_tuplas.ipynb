{
  "nbformat": 4,
  "nbformat_minor": 0,
  "metadata": {
    "colab": {
      "provenance": [],
      "authorship_tag": "ABX9TyNdO5zsSX/f74a9H7yQMpv4",
      "include_colab_link": true
    },
    "kernelspec": {
      "name": "python3",
      "display_name": "Python 3"
    },
    "language_info": {
      "name": "python"
    }
  },
  "cells": [
    {
      "cell_type": "markdown",
      "metadata": {
        "id": "view-in-github",
        "colab_type": "text"
      },
      "source": [
        "<a href=\"https://colab.research.google.com/github/lucasfreitas14/PA_2025/blob/main/listastuplasdiciostrings/Exerc%C3%ADcios_de_string_e_listas_tuplas.ipynb\" target=\"_parent\"><img src=\"https://colab.research.google.com/assets/colab-badge.svg\" alt=\"Open In Colab\"/></a>"
      ]
    },
    {
      "cell_type": "markdown",
      "source": [
        "# Exercícios de Manipulações de Strings"
      ],
      "metadata": {
        "id": "9E0MKWSl1rth"
      }
    },
    {
      "cell_type": "code",
      "source": [
        "#Exercício 1\n",
        "\n",
        "x = \"Hello word\"\n",
        "print(len(x))"
      ],
      "metadata": {
        "colab": {
          "base_uri": "https://localhost:8080/"
        },
        "id": "3dRu0YtW2E1U",
        "outputId": "064c8f35-e379-4ada-bae0-99f1cfba642b"
      },
      "execution_count": 1,
      "outputs": [
        {
          "output_type": "stream",
          "name": "stdout",
          "text": [
            "10\n"
          ]
        }
      ]
    },
    {
      "cell_type": "code",
      "source": [
        "#Exercício 2\n",
        "\n",
        "txt = \"Hello word\"\n",
        "txt[0]"
      ],
      "metadata": {
        "colab": {
          "base_uri": "https://localhost:8080/",
          "height": 35
        },
        "id": "x9d7EhCw2Oy1",
        "outputId": "6acbc0c3-26aa-49ef-f1d3-99933ddfe8b8"
      },
      "execution_count": 2,
      "outputs": [
        {
          "output_type": "execute_result",
          "data": {
            "text/plain": [
              "'H'"
            ],
            "application/vnd.google.colaboratory.intrinsic+json": {
              "type": "string"
            }
          },
          "metadata": {},
          "execution_count": 2
        }
      ]
    },
    {
      "cell_type": "code",
      "source": [
        "#Exercício 3\n",
        "\n",
        "x = \"Hello word\"\n",
        "x[2:5]"
      ],
      "metadata": {
        "colab": {
          "base_uri": "https://localhost:8080/",
          "height": 35
        },
        "id": "pJCWvC772TEN",
        "outputId": "41e85eb0-7e79-487e-beea-8fac300d597e"
      },
      "execution_count": 3,
      "outputs": [
        {
          "output_type": "execute_result",
          "data": {
            "text/plain": [
              "'llo'"
            ],
            "application/vnd.google.colaboratory.intrinsic+json": {
              "type": "string"
            }
          },
          "metadata": {},
          "execution_count": 3
        }
      ]
    },
    {
      "cell_type": "code",
      "source": [
        "#Exercício 4\n",
        "\n",
        "x = \"hello word\"\n",
        "x.upper()"
      ],
      "metadata": {
        "colab": {
          "base_uri": "https://localhost:8080/",
          "height": 35
        },
        "id": "8_vwG0x02W7J",
        "outputId": "d0c62939-8d14-4351-8974-33195ed5224e"
      },
      "execution_count": 4,
      "outputs": [
        {
          "output_type": "execute_result",
          "data": {
            "text/plain": [
              "'HELLO WORD'"
            ],
            "application/vnd.google.colaboratory.intrinsic+json": {
              "type": "string"
            }
          },
          "metadata": {},
          "execution_count": 4
        }
      ]
    },
    {
      "cell_type": "code",
      "source": [
        "#Exercício 5\n",
        "\n",
        "txt = \"Eu gosto de vijar, tomar vinho, de estudar estudar programação, de estudar Pyhon\"\n",
        "txt.count('de')"
      ],
      "metadata": {
        "colab": {
          "base_uri": "https://localhost:8080/"
        },
        "id": "YF32sV9E2bAN",
        "outputId": "63e8ed8e-7785-4cee-9999-c5d4c2d5dde5"
      },
      "execution_count": 5,
      "outputs": [
        {
          "output_type": "execute_result",
          "data": {
            "text/plain": [
              "3"
            ]
          },
          "metadata": {},
          "execution_count": 5
        }
      ]
    },
    {
      "cell_type": "code",
      "source": [
        "#Exercício 6\n",
        "\n",
        "txt = \"Eu gosto de vijar, tomar vinho, de estudar estudar programação, de estudar Pyhon\"\n",
        "txt.split(',')"
      ],
      "metadata": {
        "colab": {
          "base_uri": "https://localhost:8080/"
        },
        "id": "bXWAcnYf2e53",
        "outputId": "fee8993a-bcaa-4d38-faa6-6b8a7379df25"
      },
      "execution_count": 6,
      "outputs": [
        {
          "output_type": "execute_result",
          "data": {
            "text/plain": [
              "['Eu gosto de vijar',\n",
              " ' tomar vinho',\n",
              " ' de estudar estudar programação',\n",
              " ' de estudar Pyhon']"
            ]
          },
          "metadata": {},
          "execution_count": 6
        }
      ]
    },
    {
      "cell_type": "code",
      "source": [
        "#Exercício 7\n",
        "\n",
        "txt = str(input(\"Digite uma frase: \"))\n",
        "\n",
        "rp = txt.replace(\" \",\"#\")\n",
        "print(rp)"
      ],
      "metadata": {
        "colab": {
          "base_uri": "https://localhost:8080/"
        },
        "id": "WLOX9pVK2jnH",
        "outputId": "eb9c87f3-5b8f-4591-d428-e7c2acc8ddc1"
      },
      "execution_count": 7,
      "outputs": [
        {
          "output_type": "stream",
          "name": "stdout",
          "text": [
            "Digite uma frase: O sol está muito forte\n",
            "O#sol#está#muito#forte\n"
          ]
        }
      ]
    },
    {
      "cell_type": "code",
      "source": [
        "#Exercício 8\n",
        "\n",
        "txt = str(input(\"Digite uma palavra palíndromas: \"))\n",
        "txt2 = str(input(\"Digite uma palavra palíndroma: \"))\n",
        "\n",
        "if txt[::-1] == txt:\n",
        "  print(\"A primeira palavra é palídroma\")\n",
        "  if txt2[::-1] == txt2:\n",
        "    print(\"A segunda palavra é palíndroma\")\n",
        "  else:\n",
        "    print(\"A segunda palavra não é palídroma dela mesma\")\n",
        "  if txt[::-1] == txt2:\n",
        "    print(\"Essa palavras formam um palíndromo\")\n",
        "  else:\n",
        "    print(\"Essas palavras não são palídromas juntas\")\n",
        "else:\n",
        "  print(\"A primeira palavra não é palídroma dela mesma\")"
      ],
      "metadata": {
        "colab": {
          "base_uri": "https://localhost:8080/"
        },
        "id": "zRBIoe_72teN",
        "outputId": "7142fb0a-6b08-4c9f-efa8-b76288c235ba"
      },
      "execution_count": 8,
      "outputs": [
        {
          "output_type": "stream",
          "name": "stdout",
          "text": [
            "Digite uma palavra palíndromas: arara\n",
            "Digite uma palavra palíndroma: natan\n",
            "A primeira palavra é palídroma\n",
            "A segunda palavra é palíndroma\n",
            "Essas palavras não são palídromas juntas\n"
          ]
        }
      ]
    },
    {
      "cell_type": "code",
      "source": [
        "#Exercício 9\n",
        "\n",
        "nome = str(input(\"Digite o seu nome: \"))\n",
        "\n",
        "nome.upper()[::-1]"
      ],
      "metadata": {
        "colab": {
          "base_uri": "https://localhost:8080/",
          "height": 53
        },
        "id": "y0IGTOur28Xe",
        "outputId": "bca498cc-888c-4716-8a7d-0d2ada9377fb"
      },
      "execution_count": 9,
      "outputs": [
        {
          "name": "stdout",
          "output_type": "stream",
          "text": [
            "Digite o seu nome: Lucas\n"
          ]
        },
        {
          "output_type": "execute_result",
          "data": {
            "text/plain": [
              "'SACUL'"
            ],
            "application/vnd.google.colaboratory.intrinsic+json": {
              "type": "string"
            }
          },
          "metadata": {},
          "execution_count": 9
        }
      ]
    },
    {
      "cell_type": "markdown",
      "source": [
        "#Exercícios de Listas, Tuplas e Dicionários"
      ],
      "metadata": {
        "id": "y5l34ctZ3JEw"
      }
    },
    {
      "cell_type": "code",
      "source": [
        "#Exercício 1\n",
        "\n",
        "cidades = [\"Mauá\", \"Riberão Pires\", \"Santo André\", \"Guarulhos\", \"Salvador\"]\n",
        "cidades\n",
        "\n",
        "\n",
        "cidades.append(\"Paraíba\")\n",
        "print(cidades)\n",
        "\n",
        "\n",
        "cidades.pop(1)\n",
        "print(cidades)\n",
        "\n",
        "\n",
        "cidades"
      ],
      "metadata": {
        "colab": {
          "base_uri": "https://localhost:8080/"
        },
        "id": "b3D8qBtE3UPe",
        "outputId": "43d80bf0-9fbf-4387-a821-109c0e332e4f"
      },
      "execution_count": 11,
      "outputs": [
        {
          "output_type": "stream",
          "name": "stdout",
          "text": [
            "['Mauá', 'Riberão Pires', 'Santo André', 'Guarulhos', 'Salvador', 'Paraíba']\n",
            "['Mauá', 'Santo André', 'Guarulhos', 'Salvador', 'Paraíba']\n"
          ]
        },
        {
          "output_type": "execute_result",
          "data": {
            "text/plain": [
              "['Mauá', 'Santo André', 'Guarulhos', 'Salvador', 'Paraíba']"
            ]
          },
          "metadata": {},
          "execution_count": 11
        }
      ]
    },
    {
      "cell_type": "code",
      "source": [
        "#Exercício 2\n",
        "\n",
        "cores = (\"vermelho\", \"verde\", \"azul\",\"Preto\")\n",
        "cores"
      ],
      "metadata": {
        "colab": {
          "base_uri": "https://localhost:8080/"
        },
        "id": "UG3MUih-3rIZ",
        "outputId": "50f1ea82-9617-4849-e8c9-4e3ce05c44b2"
      },
      "execution_count": 18,
      "outputs": [
        {
          "output_type": "execute_result",
          "data": {
            "text/plain": [
              "('vermelho', 'verde', 'azul', 'Preto')"
            ]
          },
          "metadata": {},
          "execution_count": 18
        }
      ]
    },
    {
      "cell_type": "code",
      "source": [
        "novas_cores = cores + (\"Branco\",)\n",
        "print(novas_cores)"
      ],
      "metadata": {
        "colab": {
          "base_uri": "https://localhost:8080/"
        },
        "id": "B7CwknQ34H4a",
        "outputId": "9b0ced24-7ee2-4d7f-d5ee-8a554d914ccc"
      },
      "execution_count": 20,
      "outputs": [
        {
          "output_type": "stream",
          "name": "stdout",
          "text": [
            "('vermelho', 'verde', 'azul', 'Preto', 'Branco')\n"
          ]
        }
      ]
    },
    {
      "cell_type": "code",
      "source": [
        "novas_cores"
      ],
      "metadata": {
        "colab": {
          "base_uri": "https://localhost:8080/"
        },
        "id": "A_mVWelU4M8-",
        "outputId": "e62ccbbb-c308-44a5-fedc-bbcf04a9f454"
      },
      "execution_count": 21,
      "outputs": [
        {
          "output_type": "execute_result",
          "data": {
            "text/plain": [
              "('vermelho', 'verde', 'azul', 'Preto', 'Branco')"
            ]
          },
          "metadata": {},
          "execution_count": 21
        }
      ]
    },
    {
      "cell_type": "code",
      "source": [
        "#Exercício 3\n",
        "\n",
        "estudante = {\n",
        "    \"nome\": \"Pietro\",\n",
        "    \"idade\": 15,\n",
        "    \"curso\": \"Informática\"\n",
        "}"
      ],
      "metadata": {
        "id": "GyCnPx9R4Pkw"
      },
      "execution_count": 22,
      "outputs": []
    },
    {
      "cell_type": "code",
      "source": [
        "estudante[\"idade\"] = 16\n",
        "print(estudante)"
      ],
      "metadata": {
        "colab": {
          "base_uri": "https://localhost:8080/"
        },
        "id": "LaDlw1QR4V7s",
        "outputId": "e3c29d05-19f3-42f4-ec73-d44d2852f5b9"
      },
      "execution_count": 23,
      "outputs": [
        {
          "output_type": "stream",
          "name": "stdout",
          "text": [
            "{'nome': 'Pietro', 'idade': 16, 'curso': 'Informática'}\n"
          ]
        }
      ]
    },
    {
      "cell_type": "code",
      "source": [
        "estudante[\"nota\"] = \"10\"\n",
        "print(estudante)"
      ],
      "metadata": {
        "colab": {
          "base_uri": "https://localhost:8080/"
        },
        "id": "BdIpmoMH4aVo",
        "outputId": "22a61937-248a-4296-dc9b-12fc201d2a7b"
      },
      "execution_count": 24,
      "outputs": [
        {
          "output_type": "stream",
          "name": "stdout",
          "text": [
            "{'nome': 'Pietro', 'idade': 16, 'curso': 'Informática', 'nota': '10'}\n"
          ]
        }
      ]
    },
    {
      "cell_type": "code",
      "source": [
        "estudante"
      ],
      "metadata": {
        "colab": {
          "base_uri": "https://localhost:8080/"
        },
        "id": "UW0ixoZG4dEk",
        "outputId": "b55d6236-2115-4c2c-d445-44c15f2cee54"
      },
      "execution_count": 25,
      "outputs": [
        {
          "output_type": "execute_result",
          "data": {
            "text/plain": [
              "{'nome': 'Pietro', 'idade': 16, 'curso': 'Informática', 'nota': '10'}"
            ]
          },
          "metadata": {},
          "execution_count": 25
        }
      ]
    },
    {
      "cell_type": "code",
      "source": [
        "#Exercício 4\n",
        "\n",
        "produto1 = {\n",
        "    \"nome\": \"sabonete\",\n",
        "    \"preço\": 22,\n",
        "}\n",
        "produto2 = {\n",
        "    \"nome\": \"shampoo\",\n",
        "    \"preço\": 25,\n",
        "}\n",
        "produto3 = {\n",
        "    \"nome\": \"Condicionador\",\n",
        "    \"preço\": 23,\n",
        "}\n",
        "produtos = [produto1,produto2]\n",
        "produtos.append(produto3)\n",
        "produto1[\"preço\"] = 22\n",
        "print(produtos)"
      ],
      "metadata": {
        "colab": {
          "base_uri": "https://localhost:8080/"
        },
        "id": "2JrcldsQ4e2X",
        "outputId": "30ae4f71-7a2a-4155-9ebd-aed16272c08c"
      },
      "execution_count": 26,
      "outputs": [
        {
          "output_type": "stream",
          "name": "stdout",
          "text": [
            "[{'nome': 'sabonete', 'preço': 22}, {'nome': 'shampoo', 'preço': 25}, {'nome': 'Condicionador', 'preço': 23}]\n"
          ]
        }
      ]
    },
    {
      "cell_type": "code",
      "source": [
        "#Exercício 5\n",
        "\n",
        "nomes = [\n",
        "    (\"Lucas\", 15),\n",
        "    (\"Pedro\",9),\n",
        "    (\"Cauê\",56),\n",
        "    (\"Jhean\",98)\n",
        "]"
      ],
      "metadata": {
        "id": "IIdQ7tIU4kMJ"
      },
      "execution_count": 27,
      "outputs": []
    },
    {
      "cell_type": "code",
      "source": [
        "mais_velho = 0\n",
        "nome_velho = \"\"\n",
        "\n",
        "if (nomes[0][1]> mais_velho):\n",
        "  mais_velho = nomes[0][1]\n",
        "  nome_velho = nomes[0][0]\n",
        "\n",
        "\n",
        "if (nomes[1][1]> mais_velho):\n",
        "  mais_velho = nomes[1][1]\n",
        "  nome_velho = nomes[1][0]\n",
        "\n",
        "\n",
        "if (nomes[2][1]> mais_velho):\n",
        "  mais_velho = nomes[2][1]\n",
        "  nome_velho = nomes[2][0]\n",
        "\n",
        "\n",
        "if (nomes[3][1]> mais_velho):\n",
        "  mais_velho = nomes[3][1]\n",
        "  nome_velho = nomes[3][0]\n",
        "\n",
        "media = (nomes[0][1] + nomes[1][1] + nomes[2][1] + nomes[3][1])/4\n",
        "\n",
        "print(f\"O nome da pessoa mais velha é {nome_velho}, com {mais_velho} anos e a média das idades é {media}\")"
      ],
      "metadata": {
        "colab": {
          "base_uri": "https://localhost:8080/"
        },
        "id": "--ZQVEZF4ozf",
        "outputId": "3638159e-1be0-4c15-cf84-e00aeaf0ffc6"
      },
      "execution_count": 28,
      "outputs": [
        {
          "output_type": "stream",
          "name": "stdout",
          "text": [
            "O nome da pessoa mais velha é Jhean, com 98 anos e a média das idades é 44.5\n"
          ]
        }
      ]
    }
  ]
}