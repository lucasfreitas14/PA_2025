{
  "nbformat": 4,
  "nbformat_minor": 0,
  "metadata": {
    "colab": {
      "provenance": [],
      "authorship_tag": "ABX9TyNZn/lOQAcRvxw0gz6NuWP/",
      "include_colab_link": true
    },
    "kernelspec": {
      "name": "python3",
      "display_name": "Python 3"
    },
    "language_info": {
      "name": "python"
    }
  },
  "cells": [
    {
      "cell_type": "markdown",
      "metadata": {
        "id": "view-in-github",
        "colab_type": "text"
      },
      "source": [
        "<a href=\"https://colab.research.google.com/github/lucasfreitas14/PA_2025/blob/main/variaveiseoperadoresaritmeticos/variaveiseconstantes.ipynb\" target=\"_parent\"><img src=\"https://colab.research.google.com/assets/colab-badge.svg\" alt=\"Open In Colab\"/></a>"
      ]
    },
    {
      "cell_type": "markdown",
      "source": [
        "# Variáveis e constantes"
      ],
      "metadata": {
        "id": "pdVNLibYgQys"
      }
    },
    {
      "cell_type": "code",
      "execution_count": null,
      "metadata": {
        "id": "sXjdjFZOf9Ug"
      },
      "outputs": [],
      "source": [
        "idade = 14\n",
        "altura = 1.70\n",
        "nome = \"Lucas Bellato\"\n",
        "vai = True\n"
      ]
    },
    {
      "cell_type": "code",
      "source": [
        "nomes = [\"Lucas Bellato\",\"Neymar jr\",\"Messi\",\"Cristiano Ronaldo\"]\n",
        "nomes2 = (\"Lucas Bellato\",\"Neymar jr\",\"Messi\",\"Cristiano Ronaldo\")\n",
        "tudo = {nome:\"Lucas Bellato\",idade:14,altura:1.70,vai:True}"
      ],
      "metadata": {
        "id": "Iq91Gqb5iZek"
      },
      "execution_count": null,
      "outputs": []
    },
    {
      "cell_type": "code",
      "source": [
        "print(nome)\n",
        "print(nomes)\n",
        "print(nomes2)\n",
        "print(tudo)"
      ],
      "metadata": {
        "colab": {
          "base_uri": "https://localhost:8080/"
        },
        "id": "cymLnvx2jMoC",
        "outputId": "f8d6c0fb-c65f-48c1-eb1c-46cb0b8b10d7"
      },
      "execution_count": null,
      "outputs": [
        {
          "output_type": "stream",
          "name": "stdout",
          "text": [
            "Lucas Bellato\n",
            "['Lucas Bellato', 'Neymar jr', 'Messi', 'Cristiano Ronaldo']\n",
            "('Lucas Bellato', 'Neymar jr', 'Messi', 'Cristiano Ronaldo')\n",
            "{'Lucas Bellato': 'Lucas Bellato', 14: 14, 1.7: 1.7, True: True}\n"
          ]
        }
      ]
    },
    {
      "cell_type": "code",
      "source": [
        "print(type(idade))\n",
        "print(type(altura))\n",
        "print(type(vai))\n",
        "print(type(nome))\n",
        "print(type(nomes))\n",
        "print(type(nomes2))\n",
        "print(type(tudo))"
      ],
      "metadata": {
        "colab": {
          "base_uri": "https://localhost:8080/"
        },
        "id": "YbvziJxYkNBf",
        "outputId": "7550f58e-937f-42a9-f347-500bb8660a0e"
      },
      "execution_count": null,
      "outputs": [
        {
          "output_type": "stream",
          "name": "stdout",
          "text": [
            "<class 'int'>\n",
            "<class 'float'>\n",
            "<class 'bool'>\n",
            "<class 'str'>\n",
            "<class 'list'>\n",
            "<class 'tuple'>\n",
            "<class 'dict'>\n"
          ]
        }
      ]
    },
    {
      "cell_type": "code",
      "source": [
        "print(\"o nome dele é:\", nome,\", sua idade é:\", idade,\"anos \" \"e ele tem\", altura,\"metros.\")"
      ],
      "metadata": {
        "colab": {
          "base_uri": "https://localhost:8080/"
        },
        "id": "6YnPqVRspN2f",
        "outputId": "cab70a8c-46b4-4b41-d89f-9f48bafc5935"
      },
      "execution_count": null,
      "outputs": [
        {
          "output_type": "stream",
          "name": "stdout",
          "text": [
            "o nome dele é: Lucas Bellato , sua idade é: 14 anos e ele tem 1.7 metros.\n"
          ]
        }
      ]
    },
    {
      "cell_type": "code",
      "source": [
        "print(f\"o nome dele é : {nome}. A altura dele é: {altura}\")"
      ],
      "metadata": {
        "colab": {
          "base_uri": "https://localhost:8080/"
        },
        "id": "tndIFgrAsZym",
        "outputId": "7ce59b28-09f1-451a-8a15-265208f48ccb"
      },
      "execution_count": null,
      "outputs": [
        {
          "output_type": "stream",
          "name": "stdout",
          "text": [
            "o nome dele é : Lucas Bellato. A altura dele é: 1.7\n"
          ]
        }
      ]
    },
    {
      "cell_type": "markdown",
      "source": [
        "# Área do círculo"
      ],
      "metadata": {
        "id": "6IVw7qcmvcax"
      }
    },
    {
      "cell_type": "code",
      "source": [
        "PI = 3.14159\n",
        "raio = float(input(\"Digite o valor do raio do circulo \"))"
      ],
      "metadata": {
        "colab": {
          "base_uri": "https://localhost:8080/"
        },
        "id": "loJoSqCWvi1g",
        "outputId": "1cd5e4a0-59a1-4413-856d-dbbd6f5a8901"
      },
      "execution_count": null,
      "outputs": [
        {
          "name": "stdout",
          "output_type": "stream",
          "text": [
            "Digite o valor do raio do circulo 07\n"
          ]
        }
      ]
    },
    {
      "cell_type": "code",
      "source": [
        "areacir = PI * (raio**2)"
      ],
      "metadata": {
        "id": "SUy4aD9TwEj9"
      },
      "execution_count": null,
      "outputs": []
    },
    {
      "cell_type": "code",
      "source": [
        "print(f\"A área do círculo é {areacir}\")"
      ],
      "metadata": {
        "colab": {
          "base_uri": "https://localhost:8080/"
        },
        "id": "n2byAJG7xhzx",
        "outputId": "3c623424-624e-4d0d-85d3-1e973db2d2a0"
      },
      "execution_count": null,
      "outputs": [
        {
          "output_type": "stream",
          "name": "stdout",
          "text": [
            "A área do círculo é 153.93791\n"
          ]
        }
      ]
    },
    {
      "cell_type": "markdown",
      "source": [
        "Área do quadrado"
      ],
      "metadata": {
        "id": "aHjdF1Sjztxk"
      }
    },
    {
      "cell_type": "code",
      "source": [
        "Lado = float(input(\"Digite o valor do lado do quadrado: \"))"
      ],
      "metadata": {
        "colab": {
          "base_uri": "https://localhost:8080/"
        },
        "id": "dRNsSztJzzQy",
        "outputId": "d974b282-b89a-4ab0-ef8d-baec6a4c0f75"
      },
      "execution_count": null,
      "outputs": [
        {
          "name": "stdout",
          "output_type": "stream",
          "text": [
            "Digite o valor do lado do quadrado: 10\n"
          ]
        }
      ]
    },
    {
      "cell_type": "code",
      "source": [
        "areaqua = Lado * Lado"
      ],
      "metadata": {
        "id": "Ll9eheQ70HBB"
      },
      "execution_count": null,
      "outputs": []
    },
    {
      "cell_type": "code",
      "source": [
        "print(f\"A área do quadrado é {areaqua}\")"
      ],
      "metadata": {
        "colab": {
          "base_uri": "https://localhost:8080/"
        },
        "id": "4-vx84g70P6R",
        "outputId": "8fd63c5f-0dfc-4fbe-8ce4-6154d7ba0e9c"
      },
      "execution_count": null,
      "outputs": [
        {
          "output_type": "stream",
          "name": "stdout",
          "text": [
            "A área do quadrado é 100.0\n"
          ]
        }
      ]
    }
  ]
}