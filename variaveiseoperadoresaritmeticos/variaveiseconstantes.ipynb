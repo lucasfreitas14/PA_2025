{
  "nbformat": 4,
  "nbformat_minor": 0,
  "metadata": {
    "colab": {
      "provenance": [],
      "authorship_tag": "ABX9TyOkCsEnbSK74OGBA1KVRD3f",
      "include_colab_link": true
    },
    "kernelspec": {
      "name": "python3",
      "display_name": "Python 3"
    },
    "language_info": {
      "name": "python"
    }
  },
  "cells": [
    {
      "cell_type": "markdown",
      "metadata": {
        "id": "view-in-github",
        "colab_type": "text"
      },
      "source": [
        "<a href=\"https://colab.research.google.com/github/lucasfreitas14/PA_2025/blob/main/variaveiseoperadoresaritmeticos/variaveiseconstantes.ipynb\" target=\"_parent\"><img src=\"https://colab.research.google.com/assets/colab-badge.svg\" alt=\"Open In Colab\"/></a>"
      ]
    },
    {
      "cell_type": "markdown",
      "source": [
        "# Variáveis e constantes"
      ],
      "metadata": {
        "id": "pdVNLibYgQys"
      }
    },
    {
      "cell_type": "code",
      "execution_count": null,
      "metadata": {
        "id": "sXjdjFZOf9Ug"
      },
      "outputs": [],
      "source": [
        "idade = 14\n",
        "altura = 1.70\n",
        "nome = \"Lucas Bellato\"\n",
        "vai = True\n"
      ]
    },
    {
      "cell_type": "code",
      "source": [
        "nomes = [\"Lucas Bellato\",\"Neymar jr\",\"Messi\",\"Cristiano Ronaldo\"]\n",
        "nomes2 = (\"Lucas Bellato\",\"Neymar jr\",\"Messi\",\"Cristiano Ronaldo\")\n",
        "tudo = {nome:\"Lucas Bellato\",idade:14,altura:1.70,vai:True}"
      ],
      "metadata": {
        "id": "Iq91Gqb5iZek"
      },
      "execution_count": null,
      "outputs": []
    },
    {
      "cell_type": "code",
      "source": [
        "print(nome)\n",
        "print(nomes)\n",
        "print(nomes2)\n",
        "print(tudo)"
      ],
      "metadata": {
        "colab": {
          "base_uri": "https://localhost:8080/"
        },
        "id": "cymLnvx2jMoC",
        "outputId": "f8d6c0fb-c65f-48c1-eb1c-46cb0b8b10d7"
      },
      "execution_count": null,
      "outputs": [
        {
          "output_type": "stream",
          "name": "stdout",
          "text": [
            "Lucas Bellato\n",
            "['Lucas Bellato', 'Neymar jr', 'Messi', 'Cristiano Ronaldo']\n",
            "('Lucas Bellato', 'Neymar jr', 'Messi', 'Cristiano Ronaldo')\n",
            "{'Lucas Bellato': 'Lucas Bellato', 14: 14, 1.7: 1.7, True: True}\n"
          ]
        }
      ]
    },
    {
      "cell_type": "code",
      "source": [
        "print(type(idade))\n",
        "print(type(altura))\n",
        "print(type(vai))\n",
        "print(type(nome))\n",
        "print(type(nomes))\n",
        "print(type(nomes2))\n",
        "print(type(tudo))"
      ],
      "metadata": {
        "colab": {
          "base_uri": "https://localhost:8080/"
        },
        "id": "YbvziJxYkNBf",
        "outputId": "7550f58e-937f-42a9-f347-500bb8660a0e"
      },
      "execution_count": null,
      "outputs": [
        {
          "output_type": "stream",
          "name": "stdout",
          "text": [
            "<class 'int'>\n",
            "<class 'float'>\n",
            "<class 'bool'>\n",
            "<class 'str'>\n",
            "<class 'list'>\n",
            "<class 'tuple'>\n",
            "<class 'dict'>\n"
          ]
        }
      ]
    },
    {
      "cell_type": "code",
      "source": [
        "print(\"o nome dele é:\", nome,\", sua idade é:\", idade,\"anos \" \"e ele tem\", altura,\"metros.\")"
      ],
      "metadata": {
        "colab": {
          "base_uri": "https://localhost:8080/"
        },
        "id": "6YnPqVRspN2f",
        "outputId": "cab70a8c-46b4-4b41-d89f-9f48bafc5935"
      },
      "execution_count": null,
      "outputs": [
        {
          "output_type": "stream",
          "name": "stdout",
          "text": [
            "o nome dele é: Lucas Bellato , sua idade é: 14 anos e ele tem 1.7 metros.\n"
          ]
        }
      ]
    },
    {
      "cell_type": "code",
      "source": [
        "print(f\"o nome dele é : {nome}. A altura dele é: {altura}\")"
      ],
      "metadata": {
        "colab": {
          "base_uri": "https://localhost:8080/"
        },
        "id": "tndIFgrAsZym",
        "outputId": "7ce59b28-09f1-451a-8a15-265208f48ccb"
      },
      "execution_count": null,
      "outputs": [
        {
          "output_type": "stream",
          "name": "stdout",
          "text": [
            "o nome dele é : Lucas Bellato. A altura dele é: 1.7\n"
          ]
        }
      ]
    },
    {
      "cell_type": "markdown",
      "source": [
        "# Área do círculo"
      ],
      "metadata": {
        "id": "6IVw7qcmvcax"
      }
    },
    {
      "cell_type": "code",
      "source": [
        "PI = 3.14159\n",
        "raio = float(input(\"Digite o valor do raio do circulo \"))"
      ],
      "metadata": {
        "colab": {
          "base_uri": "https://localhost:8080/"
        },
        "id": "loJoSqCWvi1g",
        "outputId": "1cd5e4a0-59a1-4413-856d-dbbd6f5a8901"
      },
      "execution_count": null,
      "outputs": [
        {
          "name": "stdout",
          "output_type": "stream",
          "text": [
            "Digite o valor do raio do circulo 07\n"
          ]
        }
      ]
    },
    {
      "cell_type": "code",
      "source": [
        "areacir = PI * (raio**2)"
      ],
      "metadata": {
        "id": "SUy4aD9TwEj9"
      },
      "execution_count": null,
      "outputs": []
    },
    {
      "cell_type": "code",
      "source": [
        "print(f\"A área do círculo é {areacir}\")"
      ],
      "metadata": {
        "colab": {
          "base_uri": "https://localhost:8080/"
        },
        "id": "n2byAJG7xhzx",
        "outputId": "3c623424-624e-4d0d-85d3-1e973db2d2a0"
      },
      "execution_count": null,
      "outputs": [
        {
          "output_type": "stream",
          "name": "stdout",
          "text": [
            "A área do círculo é 153.93791\n"
          ]
        }
      ]
    },
    {
      "cell_type": "markdown",
      "source": [
        "Área do quadrado"
      ],
      "metadata": {
        "id": "aHjdF1Sjztxk"
      }
    },
    {
      "cell_type": "code",
      "source": [
        "Lado = float(input(\"Digite o valor do lado do quadrado: \"))"
      ],
      "metadata": {
        "colab": {
          "base_uri": "https://localhost:8080/"
        },
        "id": "dRNsSztJzzQy",
        "outputId": "d974b282-b89a-4ab0-ef8d-baec6a4c0f75"
      },
      "execution_count": null,
      "outputs": [
        {
          "name": "stdout",
          "output_type": "stream",
          "text": [
            "Digite o valor do lado do quadrado: 10\n"
          ]
        }
      ]
    },
    {
      "cell_type": "code",
      "source": [
        "areaqua = Lado * Lado"
      ],
      "metadata": {
        "id": "Ll9eheQ70HBB"
      },
      "execution_count": null,
      "outputs": []
    },
    {
      "cell_type": "code",
      "source": [
        "print(f\"A área do quadrado é {areaqua}\")"
      ],
      "metadata": {
        "colab": {
          "base_uri": "https://localhost:8080/"
        },
        "id": "4-vx84g70P6R",
        "outputId": "8fd63c5f-0dfc-4fbe-8ce4-6154d7ba0e9c"
      },
      "execution_count": null,
      "outputs": [
        {
          "output_type": "stream",
          "name": "stdout",
          "text": [
            "A área do quadrado é 100.0\n"
          ]
        }
      ]
    },
    {
      "cell_type": "markdown",
      "source": [
        "#Exercícios"
      ],
      "metadata": {
        "id": "ER84lEXXo3Bh"
      }
    },
    {
      "cell_type": "markdown",
      "source": [
        "##Exercício 1 - Área do Retãngulo"
      ],
      "metadata": {
        "id": "HYwg2zTwpJd3"
      }
    },
    {
      "cell_type": "markdown",
      "source": [
        "Crie um programa que calcule a área de um retângulo usando uma constante para representar a base.\n",
        "\n",
        " Fórmula: A = base × altura\n"
      ],
      "metadata": {
        "id": "8v4iGnRzqGC5"
      }
    },
    {
      "cell_type": "code",
      "source": [
        "Base = float(input(\"Digite o valor da base do retangulo: \"))"
      ],
      "metadata": {
        "colab": {
          "base_uri": "https://localhost:8080/"
        },
        "id": "Ts8JyF2WqJrx",
        "outputId": "15ce740b-8276-4eff-f91f-1adbdf97bda8"
      },
      "execution_count": 30,
      "outputs": [
        {
          "name": "stdout",
          "output_type": "stream",
          "text": [
            "Digite o valor da base do retangulo: 10\n"
          ]
        }
      ]
    },
    {
      "cell_type": "code",
      "source": [
        "Altura = float(input(\"Digite o valor da Altura do retangulo\"))"
      ],
      "metadata": {
        "colab": {
          "base_uri": "https://localhost:8080/"
        },
        "id": "siR7KVvQqtuf",
        "outputId": "717f77b9-fd2a-41df-e2fe-dc59afb7d09f"
      },
      "execution_count": 31,
      "outputs": [
        {
          "name": "stdout",
          "output_type": "stream",
          "text": [
            "Digite o valor da Altura do retangulo15\n"
          ]
        }
      ]
    },
    {
      "cell_type": "code",
      "source": [
        "arearet = Base * Altura"
      ],
      "metadata": {
        "id": "TNMuMKzerDbV"
      },
      "execution_count": 32,
      "outputs": []
    },
    {
      "cell_type": "code",
      "source": [
        "print(\"A área do retangulo é :\", arearet)"
      ],
      "metadata": {
        "colab": {
          "base_uri": "https://localhost:8080/"
        },
        "id": "nkgy9c1NrbSH",
        "outputId": "1db75a89-55ee-415c-e1ea-187d2da85f0a"
      },
      "execution_count": 33,
      "outputs": [
        {
          "output_type": "stream",
          "name": "stdout",
          "text": [
            "A área do retangulo é : 150.0\n"
          ]
        }
      ]
    },
    {
      "cell_type": "markdown",
      "source": [
        "##Exercício 2 - Perímetro do circulo"
      ],
      "metadata": {
        "id": "hF4UZ9YBr8tX"
      }
    },
    {
      "cell_type": "markdown",
      "source": [
        "Crie um programa que calcule o perímetro de um círculo usando a constante π.\n",
        "\n",
        " Fórmula: P = 2 × π × r"
      ],
      "metadata": {
        "id": "Xm7gh4qFsJKP"
      }
    },
    {
      "cell_type": "code",
      "source": [
        "raio = float(input(\"Digite o valor do raio do circulo: \"))"
      ],
      "metadata": {
        "colab": {
          "base_uri": "https://localhost:8080/"
        },
        "id": "rA-0Xsw4sKDC",
        "outputId": "04c8c3f6-2a50-4940-e8c9-94231594073e"
      },
      "execution_count": 8,
      "outputs": [
        {
          "name": "stdout",
          "output_type": "stream",
          "text": [
            "Digite o valor do raio do circulo: 10\n"
          ]
        }
      ]
    },
    {
      "cell_type": "code",
      "source": [
        "perímetro = 2 * 3.1416 * raio"
      ],
      "metadata": {
        "id": "KKHMSc-sszJu"
      },
      "execution_count": 10,
      "outputs": []
    },
    {
      "cell_type": "code",
      "source": [
        "print(f\"O perímetro do círculo é: {perímetro:.2f}\")"
      ],
      "metadata": {
        "colab": {
          "base_uri": "https://localhost:8080/"
        },
        "id": "Q6P5HkVvtYAc",
        "outputId": "c4c78d81-ada8-47cf-b834-68b631a765da"
      },
      "execution_count": 13,
      "outputs": [
        {
          "output_type": "stream",
          "name": "stdout",
          "text": [
            "O perímetro do círculo é: 62.83\n"
          ]
        }
      ]
    },
    {
      "cell_type": "markdown",
      "source": [
        "##Exercício 3 - Conversão da Temperatura"
      ],
      "metadata": {
        "id": "6KXT_c_Gt9qB"
      }
    },
    {
      "cell_type": "markdown",
      "source": [
        "Crie um programa que converta uma temperatura de Fahrenheit para Celsius.\n",
        "\n",
        " Fórmula: C = (F - 32) × 5/9"
      ],
      "metadata": {
        "id": "IUJXoHWtuHxx"
      }
    },
    {
      "cell_type": "code",
      "source": [
        "Fahrenheit = float(input(\"Digite a temperatura atual dos EUA: \"))"
      ],
      "metadata": {
        "colab": {
          "base_uri": "https://localhost:8080/"
        },
        "id": "SnnrjeqWuv4f",
        "outputId": "72893f76-c3a5-4159-bb3e-c0c9e1586217"
      },
      "execution_count": 15,
      "outputs": [
        {
          "name": "stdout",
          "output_type": "stream",
          "text": [
            "Digite a temperatura atual dos EUA: 15\n"
          ]
        }
      ]
    },
    {
      "cell_type": "code",
      "source": [
        "Celcius = ((Fahrenheit - 32 * 5/9))"
      ],
      "metadata": {
        "id": "i4fzVbe_u_Sq"
      },
      "execution_count": 17,
      "outputs": []
    },
    {
      "cell_type": "code",
      "source": [
        "print(f\"A Temperatura de fahrenheit para celcius é: {Celcius:.2f}\")"
      ],
      "metadata": {
        "colab": {
          "base_uri": "https://localhost:8080/"
        },
        "id": "Gx9e9LhCvgaF",
        "outputId": "68284ddc-f703-42d1-cc39-7b747f8c58ac"
      },
      "execution_count": 20,
      "outputs": [
        {
          "output_type": "stream",
          "name": "stdout",
          "text": [
            "A Temperatura de fahrenheit para celcius é: -2.78\n"
          ]
        }
      ]
    },
    {
      "cell_type": "markdown",
      "source": [
        "##Exercício 4 - Cálculo do IMC"
      ],
      "metadata": {
        "id": "8ESJXRcxwCgI"
      }
    },
    {
      "cell_type": "markdown",
      "source": [
        "Crie um programa que calcule o Índice de Massa Corporal (IMC) de uma pessoa.\n",
        "\n",
        " Fórmula: IMC = peso / altura²"
      ],
      "metadata": {
        "id": "wDIchTzcwMQE"
      }
    },
    {
      "cell_type": "code",
      "source": [
        "peso = float(input(\"Digite o valor do seu peso\"))"
      ],
      "metadata": {
        "colab": {
          "base_uri": "https://localhost:8080/"
        },
        "id": "iArDabvcwPMq",
        "outputId": "996023c1-3f67-47b4-c081-01d074cdce68"
      },
      "execution_count": 21,
      "outputs": [
        {
          "name": "stdout",
          "output_type": "stream",
          "text": [
            "Digite o valor do seu peso55\n"
          ]
        }
      ]
    },
    {
      "cell_type": "code",
      "source": [
        "Altura = float(input(\"Digite o valor da sua altura\"))"
      ],
      "metadata": {
        "colab": {
          "base_uri": "https://localhost:8080/"
        },
        "id": "8qTFNbIZwwQv",
        "outputId": "30883154-8e53-4e5f-f53a-87c74c66193a"
      },
      "execution_count": 22,
      "outputs": [
        {
          "name": "stdout",
          "output_type": "stream",
          "text": [
            "Digite o valor da sua altura1.80\n"
          ]
        }
      ]
    },
    {
      "cell_type": "code",
      "source": [
        "IMC = peso / Altura**2"
      ],
      "metadata": {
        "id": "BQfsyvaKxC_o"
      },
      "execution_count": 27,
      "outputs": []
    },
    {
      "cell_type": "code",
      "source": [
        "print(f\"O seu IMC é: {IMC:.2f}\")"
      ],
      "metadata": {
        "colab": {
          "base_uri": "https://localhost:8080/"
        },
        "id": "-eyOifFxxgjj",
        "outputId": "994bebcd-c92d-46c2-d463-afb47b3be21d"
      },
      "execution_count": 28,
      "outputs": [
        {
          "output_type": "stream",
          "name": "stdout",
          "text": [
            "O seu IMC é: 16.98\n"
          ]
        }
      ]
    }
  ]
}