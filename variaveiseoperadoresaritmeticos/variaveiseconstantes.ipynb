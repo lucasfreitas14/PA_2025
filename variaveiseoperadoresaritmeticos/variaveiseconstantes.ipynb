{
  "nbformat": 4,
  "nbformat_minor": 0,
  "metadata": {
    "colab": {
      "provenance": [],
      "authorship_tag": "ABX9TyNNENuz+WQV+Em6dAaU1Lh2",
      "include_colab_link": true
    },
    "kernelspec": {
      "name": "python3",
      "display_name": "Python 3"
    },
    "language_info": {
      "name": "python"
    }
  },
  "cells": [
    {
      "cell_type": "markdown",
      "metadata": {
        "id": "view-in-github",
        "colab_type": "text"
      },
      "source": [
        "<a href=\"https://colab.research.google.com/github/lucasfreitas14/PA_2025/blob/main/variaveiseoperadoresaritmeticos/variaveiseconstantes.ipynb\" target=\"_parent\"><img src=\"https://colab.research.google.com/assets/colab-badge.svg\" alt=\"Open In Colab\"/></a>"
      ]
    },
    {
      "cell_type": "markdown",
      "source": [
        "# Variáveis e constantes"
      ],
      "metadata": {
        "id": "pdVNLibYgQys"
      }
    },
    {
      "cell_type": "code",
      "execution_count": null,
      "metadata": {
        "id": "sXjdjFZOf9Ug"
      },
      "outputs": [],
      "source": [
        "idade = 14\n",
        "altura = 1.70\n",
        "nome = \"Lucas Bellato\"\n",
        "vai = True\n"
      ]
    },
    {
      "cell_type": "code",
      "source": [
        "nomes = [\"Lucas Bellato\",\"Neymar jr\",\"Messi\",\"Cristiano Ronaldo\"]\n",
        "nomes2 = (\"Lucas Bellato\",\"Neymar jr\",\"Messi\",\"Cristiano Ronaldo\")\n",
        "tudo = {nome:\"Lucas Bellato\",idade:14,altura:1.70,vai:True}"
      ],
      "metadata": {
        "id": "Iq91Gqb5iZek"
      },
      "execution_count": null,
      "outputs": []
    },
    {
      "cell_type": "code",
      "source": [
        "print(nome)\n",
        "print(nomes)\n",
        "print(nomes2)\n",
        "print(tudo)"
      ],
      "metadata": {
        "colab": {
          "base_uri": "https://localhost:8080/"
        },
        "id": "cymLnvx2jMoC",
        "outputId": "f8d6c0fb-c65f-48c1-eb1c-46cb0b8b10d7"
      },
      "execution_count": null,
      "outputs": [
        {
          "output_type": "stream",
          "name": "stdout",
          "text": [
            "Lucas Bellato\n",
            "['Lucas Bellato', 'Neymar jr', 'Messi', 'Cristiano Ronaldo']\n",
            "('Lucas Bellato', 'Neymar jr', 'Messi', 'Cristiano Ronaldo')\n",
            "{'Lucas Bellato': 'Lucas Bellato', 14: 14, 1.7: 1.7, True: True}\n"
          ]
        }
      ]
    },
    {
      "cell_type": "code",
      "source": [
        "print(type(idade))\n",
        "print(type(altura))\n",
        "print(type(vai))\n",
        "print(type(nome))\n",
        "print(type(nomes))\n",
        "print(type(nomes2))\n",
        "print(type(tudo))"
      ],
      "metadata": {
        "colab": {
          "base_uri": "https://localhost:8080/"
        },
        "id": "YbvziJxYkNBf",
        "outputId": "7550f58e-937f-42a9-f347-500bb8660a0e"
      },
      "execution_count": null,
      "outputs": [
        {
          "output_type": "stream",
          "name": "stdout",
          "text": [
            "<class 'int'>\n",
            "<class 'float'>\n",
            "<class 'bool'>\n",
            "<class 'str'>\n",
            "<class 'list'>\n",
            "<class 'tuple'>\n",
            "<class 'dict'>\n"
          ]
        }
      ]
    },
    {
      "cell_type": "code",
      "source": [
        "print(\"o nome dele é:\", nome,\", sua idade é:\", idade,\"anos \" \"e ele tem\", altura,\"metros.\")"
      ],
      "metadata": {
        "colab": {
          "base_uri": "https://localhost:8080/"
        },
        "id": "6YnPqVRspN2f",
        "outputId": "cab70a8c-46b4-4b41-d89f-9f48bafc5935"
      },
      "execution_count": null,
      "outputs": [
        {
          "output_type": "stream",
          "name": "stdout",
          "text": [
            "o nome dele é: Lucas Bellato , sua idade é: 14 anos e ele tem 1.7 metros.\n"
          ]
        }
      ]
    },
    {
      "cell_type": "code",
      "source": [
        "print(f\"o nome dele é : {nome}. A altura dele é: {altura}\")"
      ],
      "metadata": {
        "colab": {
          "base_uri": "https://localhost:8080/"
        },
        "id": "tndIFgrAsZym",
        "outputId": "7ce59b28-09f1-451a-8a15-265208f48ccb"
      },
      "execution_count": null,
      "outputs": [
        {
          "output_type": "stream",
          "name": "stdout",
          "text": [
            "o nome dele é : Lucas Bellato. A altura dele é: 1.7\n"
          ]
        }
      ]
    },
    {
      "cell_type": "markdown",
      "source": [
        "# Área do círculo"
      ],
      "metadata": {
        "id": "6IVw7qcmvcax"
      }
    },
    {
      "cell_type": "code",
      "source": [
        "PI = 3.14159\n",
        "raio = float(input(\"Digite o valor do raio do circulo \"))"
      ],
      "metadata": {
        "colab": {
          "base_uri": "https://localhost:8080/"
        },
        "id": "loJoSqCWvi1g",
        "outputId": "1cd5e4a0-59a1-4413-856d-dbbd6f5a8901"
      },
      "execution_count": null,
      "outputs": [
        {
          "name": "stdout",
          "output_type": "stream",
          "text": [
            "Digite o valor do raio do circulo 07\n"
          ]
        }
      ]
    },
    {
      "cell_type": "code",
      "source": [
        "areacir = PI * (raio**2)"
      ],
      "metadata": {
        "id": "SUy4aD9TwEj9"
      },
      "execution_count": null,
      "outputs": []
    },
    {
      "cell_type": "code",
      "source": [
        "print(f\"A área do círculo é {areacir}\")"
      ],
      "metadata": {
        "colab": {
          "base_uri": "https://localhost:8080/"
        },
        "id": "n2byAJG7xhzx",
        "outputId": "3c623424-624e-4d0d-85d3-1e973db2d2a0"
      },
      "execution_count": null,
      "outputs": [
        {
          "output_type": "stream",
          "name": "stdout",
          "text": [
            "A área do círculo é 153.93791\n"
          ]
        }
      ]
    },
    {
      "cell_type": "markdown",
      "source": [
        "Área do quadrado"
      ],
      "metadata": {
        "id": "aHjdF1Sjztxk"
      }
    },
    {
      "cell_type": "code",
      "source": [
        "Lado = float(input(\"Digite o valor do lado do quadrado: \"))"
      ],
      "metadata": {
        "colab": {
          "base_uri": "https://localhost:8080/"
        },
        "id": "dRNsSztJzzQy",
        "outputId": "d974b282-b89a-4ab0-ef8d-baec6a4c0f75"
      },
      "execution_count": null,
      "outputs": [
        {
          "name": "stdout",
          "output_type": "stream",
          "text": [
            "Digite o valor do lado do quadrado: 10\n"
          ]
        }
      ]
    },
    {
      "cell_type": "code",
      "source": [
        "areaqua = Lado * Lado"
      ],
      "metadata": {
        "id": "Ll9eheQ70HBB"
      },
      "execution_count": null,
      "outputs": []
    },
    {
      "cell_type": "code",
      "source": [
        "print(f\"A área do quadrado é {areaqua}\")"
      ],
      "metadata": {
        "colab": {
          "base_uri": "https://localhost:8080/"
        },
        "id": "4-vx84g70P6R",
        "outputId": "8fd63c5f-0dfc-4fbe-8ce4-6154d7ba0e9c"
      },
      "execution_count": null,
      "outputs": [
        {
          "output_type": "stream",
          "name": "stdout",
          "text": [
            "A área do quadrado é 100.0\n"
          ]
        }
      ]
    },
    {
      "cell_type": "markdown",
      "source": [
        "#Exercícios"
      ],
      "metadata": {
        "id": "ER84lEXXo3Bh"
      }
    },
    {
      "cell_type": "markdown",
      "source": [
        "##Exercício 1 - Área do Retãngulo"
      ],
      "metadata": {
        "id": "HYwg2zTwpJd3"
      }
    },
    {
      "cell_type": "markdown",
      "source": [
        "Crie um programa que calcule a área de um retângulo usando uma constante para representar a base.\n",
        "\n",
        " Fórmula: A = base × altura\n"
      ],
      "metadata": {
        "id": "8v4iGnRzqGC5"
      }
    },
    {
      "cell_type": "code",
      "source": [
        "Base = float(input(\"Digite o valor da base do retangulo: \"))"
      ],
      "metadata": {
        "colab": {
          "base_uri": "https://localhost:8080/"
        },
        "id": "Ts8JyF2WqJrx",
        "outputId": "15ce740b-8276-4eff-f91f-1adbdf97bda8"
      },
      "execution_count": null,
      "outputs": [
        {
          "name": "stdout",
          "output_type": "stream",
          "text": [
            "Digite o valor da base do retangulo: 10\n"
          ]
        }
      ]
    },
    {
      "cell_type": "code",
      "source": [
        "Altura = float(input(\"Digite o valor da Altura do retangulo\"))"
      ],
      "metadata": {
        "colab": {
          "base_uri": "https://localhost:8080/"
        },
        "id": "siR7KVvQqtuf",
        "outputId": "717f77b9-fd2a-41df-e2fe-dc59afb7d09f"
      },
      "execution_count": null,
      "outputs": [
        {
          "name": "stdout",
          "output_type": "stream",
          "text": [
            "Digite o valor da Altura do retangulo15\n"
          ]
        }
      ]
    },
    {
      "cell_type": "code",
      "source": [
        "arearet = Base * Altura"
      ],
      "metadata": {
        "id": "TNMuMKzerDbV"
      },
      "execution_count": null,
      "outputs": []
    },
    {
      "cell_type": "code",
      "source": [
        "print(\"A área do retangulo é :\", arearet)"
      ],
      "metadata": {
        "colab": {
          "base_uri": "https://localhost:8080/"
        },
        "id": "nkgy9c1NrbSH",
        "outputId": "1db75a89-55ee-415c-e1ea-187d2da85f0a"
      },
      "execution_count": null,
      "outputs": [
        {
          "output_type": "stream",
          "name": "stdout",
          "text": [
            "A área do retangulo é : 150.0\n"
          ]
        }
      ]
    },
    {
      "cell_type": "markdown",
      "source": [
        "##Exercício 2 - Perímetro do circulo"
      ],
      "metadata": {
        "id": "hF4UZ9YBr8tX"
      }
    },
    {
      "cell_type": "markdown",
      "source": [
        "Crie um programa que calcule o perímetro de um círculo usando a constante π.\n",
        "\n",
        " Fórmula: P = 2 × π × r"
      ],
      "metadata": {
        "id": "Xm7gh4qFsJKP"
      }
    },
    {
      "cell_type": "code",
      "source": [
        "raio = float(input(\"Digite o valor do raio do circulo: \"))"
      ],
      "metadata": {
        "colab": {
          "base_uri": "https://localhost:8080/"
        },
        "id": "rA-0Xsw4sKDC",
        "outputId": "04c8c3f6-2a50-4940-e8c9-94231594073e"
      },
      "execution_count": null,
      "outputs": [
        {
          "name": "stdout",
          "output_type": "stream",
          "text": [
            "Digite o valor do raio do circulo: 10\n"
          ]
        }
      ]
    },
    {
      "cell_type": "code",
      "source": [
        "perímetro = 2 * 3.1416 * raio"
      ],
      "metadata": {
        "id": "KKHMSc-sszJu"
      },
      "execution_count": null,
      "outputs": []
    },
    {
      "cell_type": "code",
      "source": [
        "print(f\"O perímetro do círculo é: {perímetro:.2f}\")"
      ],
      "metadata": {
        "colab": {
          "base_uri": "https://localhost:8080/"
        },
        "id": "Q6P5HkVvtYAc",
        "outputId": "c4c78d81-ada8-47cf-b834-68b631a765da"
      },
      "execution_count": null,
      "outputs": [
        {
          "output_type": "stream",
          "name": "stdout",
          "text": [
            "O perímetro do círculo é: 62.83\n"
          ]
        }
      ]
    },
    {
      "cell_type": "markdown",
      "source": [
        "##Exercício 3 - Conversão da Temperatura"
      ],
      "metadata": {
        "id": "6KXT_c_Gt9qB"
      }
    },
    {
      "cell_type": "markdown",
      "source": [
        "Crie um programa que converta uma temperatura de Fahrenheit para Celsius.\n",
        "\n",
        " Fórmula: C = (F - 32) × 5/9"
      ],
      "metadata": {
        "id": "IUJXoHWtuHxx"
      }
    },
    {
      "cell_type": "code",
      "source": [
        "Fahrenheit = float(input(\"Digite a temperatura atual dos EUA: \"))"
      ],
      "metadata": {
        "colab": {
          "base_uri": "https://localhost:8080/"
        },
        "id": "SnnrjeqWuv4f",
        "outputId": "72893f76-c3a5-4159-bb3e-c0c9e1586217"
      },
      "execution_count": null,
      "outputs": [
        {
          "name": "stdout",
          "output_type": "stream",
          "text": [
            "Digite a temperatura atual dos EUA: 15\n"
          ]
        }
      ]
    },
    {
      "cell_type": "code",
      "source": [
        "Celcius = ((Fahrenheit - 32 * 5/9))"
      ],
      "metadata": {
        "id": "i4fzVbe_u_Sq"
      },
      "execution_count": null,
      "outputs": []
    },
    {
      "cell_type": "code",
      "source": [
        "print(f\"A Temperatura de fahrenheit para celcius é: {Celcius:.2f}\")"
      ],
      "metadata": {
        "colab": {
          "base_uri": "https://localhost:8080/"
        },
        "id": "Gx9e9LhCvgaF",
        "outputId": "68284ddc-f703-42d1-cc39-7b747f8c58ac"
      },
      "execution_count": null,
      "outputs": [
        {
          "output_type": "stream",
          "name": "stdout",
          "text": [
            "A Temperatura de fahrenheit para celcius é: -2.78\n"
          ]
        }
      ]
    },
    {
      "cell_type": "markdown",
      "source": [
        "##Exercício 4 - Cálculo do IMC"
      ],
      "metadata": {
        "id": "8ESJXRcxwCgI"
      }
    },
    {
      "cell_type": "markdown",
      "source": [
        "Crie um programa que calcule o Índice de Massa Corporal (IMC) de uma pessoa.\n",
        "\n",
        " Fórmula: IMC = peso / altura²"
      ],
      "metadata": {
        "id": "wDIchTzcwMQE"
      }
    },
    {
      "cell_type": "code",
      "source": [
        "peso = float(input(\"Digite o valor do seu peso\"))"
      ],
      "metadata": {
        "colab": {
          "base_uri": "https://localhost:8080/"
        },
        "id": "iArDabvcwPMq",
        "outputId": "996023c1-3f67-47b4-c081-01d074cdce68"
      },
      "execution_count": null,
      "outputs": [
        {
          "name": "stdout",
          "output_type": "stream",
          "text": [
            "Digite o valor do seu peso55\n"
          ]
        }
      ]
    },
    {
      "cell_type": "code",
      "source": [
        "Altura = float(input(\"Digite o valor da sua altura\"))"
      ],
      "metadata": {
        "colab": {
          "base_uri": "https://localhost:8080/"
        },
        "id": "8qTFNbIZwwQv",
        "outputId": "30883154-8e53-4e5f-f53a-87c74c66193a"
      },
      "execution_count": null,
      "outputs": [
        {
          "name": "stdout",
          "output_type": "stream",
          "text": [
            "Digite o valor da sua altura1.80\n"
          ]
        }
      ]
    },
    {
      "cell_type": "code",
      "source": [
        "IMC = peso / Altura**2"
      ],
      "metadata": {
        "id": "BQfsyvaKxC_o"
      },
      "execution_count": null,
      "outputs": []
    },
    {
      "cell_type": "code",
      "source": [
        "print(f\"O seu IMC é: {IMC:.2f}\")"
      ],
      "metadata": {
        "colab": {
          "base_uri": "https://localhost:8080/"
        },
        "id": "-eyOifFxxgjj",
        "outputId": "994bebcd-c92d-46c2-d463-afb47b3be21d"
      },
      "execution_count": null,
      "outputs": [
        {
          "output_type": "stream",
          "name": "stdout",
          "text": [
            "O seu IMC é: 16.98\n"
          ]
        }
      ]
    },
    {
      "cell_type": "markdown",
      "source": [
        "##Exercícios Fluxogramas 21/03"
      ],
      "metadata": {
        "id": "hcQFRZZY10i-"
      }
    },
    {
      "cell_type": "markdown",
      "source": [
        "##Exercício 1"
      ],
      "metadata": {
        "id": "kYBrei4U2MfT"
      }
    },
    {
      "cell_type": "markdown",
      "source": [
        "1) O custo ao consumidor de um carro novo é a soma do custo de fábrica com a percentagem do distribuidor e dos impostos (aplicados, primeiro os impostos sobre o custo de fábrica, e depois a percentagem do distribuidor sobre o resultado). Supondo que a percentagem do distribuidor seja de 28% e os impostos 45%. Escrever um algoritmo que leia o custo de fábrica de um carro e informe o custo ao consumidor do mesmo."
      ],
      "metadata": {
        "id": "bxi0PA462P6k"
      }
    },
    {
      "cell_type": "markdown",
      "source": [
        "![image.png](data:image/png;base64,iVBORw0KGgoAAAANSUhEUgAAASYAAAJOCAYAAAAai6pwAAAAAXNSR0IArs4c6QAAAARnQU1BAACxjwv8YQUAAAAJcEhZcwAADsMAAA7DAcdvqGQAAEZ7SURBVHhe7d0NeFTVnT/wbwIkkEmA8J5AILxoUFAQQRFBRWkKlaKVVaxWpFar7qqLSBXcrai7ZXVb0Wr/Ky52FVoRbKliUWhE0IIU5P1NiRBIBDK8E0gmkADhf865ZzIzmTt5kZuZMzPfz/PcZ3LO3Lnzm/vym3PunHuTcF5ACAcOHECnTp10yd6ZM2fUY7NmzdRjKE7PJzG+YIzPHuOzZ2p8ifqRiMgYTExEZBwmJiIyDhMTERmHiYmIjJPgdrtD/irn8Xjgcrl0yV5VVZV6TEysPcc5PZ/E+IJ9l/iOeIpRfqYMFedOofLcaVSePY3T4m9Zrjir68RUIerlY5uUjjhWfhBJTZojuWlz61FMVjkFzZu0QJKoT5aPoi6lWRrauTLUe8bi+qsN4wuttvg4XECLl/gOndyP4hNF2H98D749ukskJTey2vTCuapzaNY0Gc0Sk9C0SZJKLM3EYzP1mCwSjN/fYr7KsxU4c05MKllVir9Pi79lXaVKbGdVnZwqkJiQKN6vAB1bZaFTWld0bp2NLm16oEPLzjoqe9y+weIlPiYmLRbjO1xaDLdIQvtEEiouKcTBk/vQskUbtE7pgNau9kgXj+mujkhISFCvaUznz1fhuOeQmkrK5XQYJ08dQ8eWXUSi6o7O6d2R0aob2qdZLSuJ2zdYvMTHxKTFSnwFB7/G1uLVOC4O/NLTJ1QCkoko3SUm8ZiY2ETPGXlVopWmkpXoFpZ4DquEldY8HW1TO6B/1rVIqkzl9q0hXuJjYtKiOT7ZPdu49wtsL16LlKSWopt0Mbq2zRFdsrpjNM3Zc2dEF3MH9h37Bp6Kk7isy2BckTVEtKQy9RyB4mH7+ouX+JiYtGiLr/R0iUpGW/etwbmqs8gSiUhOKUlp6vlYUF5RKpJUPvYey0czkWT7dr4aA0RLKrV5Kz1H7G7fUOIlPiYmLVri235gLTZ+uxJHyw6iS1urZdQ6pb16LpbJc1KyJbX36Ddol9oJA7oOQ7+sa2Ju+zI+S92/6ZERtu5fg98uewr5B7eie4d++EH/+3B51tC4SEqS/JyXZw3Dzf1/Jj7/5dhxYDNeypuMbcVf6jkoljAxGa7g8Hb8z/Jp2Opeixv7/BiXiWTUoWUX/Wx86tAyC5eJFtMNl9yBLSJhz/riP7H78Nf6WYoFCZWVlSG7cocPH0b79rV/I589e1Y9Nm3aVD2G4vR8UizHd+DkPnzy9Z9wpqpSJaN4aRl9FyWeQ9iyd6Ua7Pm9S25Hx7Tg8VGmbd+aGF8gtpgMU15Zivc3/R5/2TQL2R36YljOj5iU6tDa1QHX9b4N3dpdij9veAMfbP4/nDrj0c9SNOLJb82E+JZ+tQAbvl0pWkjXioPsElVPDVd4+Cts3bcSA7vdgJsu+ZGqM2H71obxBWKLyQBnq87gd8v+HeVnTmP0FfczKV2g7PaX4odX/BxllR78v+XPqIGcFF2YmCJsf8kezFg6GYN6fB+9OvXXteSEizpdgQHZIzD940fU9YEUPZiYImj1nk/x8fZ38KOB/4K0Fm10LTmpVUpb3DboESzaOgfrij7XtWQ6JqYI+WDTW9h16Cv1kzc1vuGXjsOuI1/hw02zdQ2ZjIkpAv737/+Jpk1aiG7GjbqGwuHK7jchITEJs1ZM1zVkKiamMDp9phy/+uifcWnna9Cjw2W6lsKpZ8fLkZMxCP/18SOoOHNK15JpmJjCRCalt1e9hDEDHkSb1Np/wqXG1S4tEzf3v19sj1+ru3KSeTjyW2vs+F5dPhU3XHI7WiSlqjJFnrytysr89/HIDb/SNbG7/4VianxsMYXBvHW/Q7+u1zMpGcaV3BJ9s67F/PX/o2vIFBz5rTVWfNuOr8Lx8mPo0+UaXUum2bbvC7R3dcTw3rfE3P7Hkd8UpKgkH3uO5DMpGa5vl2ux89A2fHNwi66hSGNiaiTy/MXnhe/j2ovH6Boy2dCcW/H+xt/z4l9DMDE1kjf+/h+4sc+dukTR4MZL78T/rfovXaJIYmJqBHnb/4TeGVfF1P2344E8GX5xxyvxaf77uoYihYnJYfKfPK4r+kxd4U7RJ7tDH7H9lqt/AEqRw8TksBU7P8ZFnQboEkWji8X2W7nrY12iSGBictiaPZ+qHZuil9x+q3cv1SWKBI781pyYT95Wo+Do17w4Nwas37MUF7e/TP2bqFB4fARzKj62mBy0plDszGwtxYSLO12ptidFBkd+axc639fuDfjH7k8xuNcPdA1Fu3/sXIShvUYip1M/XROIx0cwp+Jji8khW/atQU7GQF2iWCC355Z9/9AlCicmJofsPLQFrVq01SWKBa1S2ontulWXKJyYmBxQUn4UKUmpSExsomtizX7MGdoXo/93vy7HhyaJTZHctAVOnjquayhcmJgccLTsIFzJrXQpiuz9A0Z3moyVuhjSspfxYp+ZWPTz4P9wW23ZZPQZ+geRwmKL3K5Hyw7oEoULE5MDDpXtR2pya12KIln3YNGB32CoLoZ042+w/Y065pLzrLwHtaSuqJTavLXYvsW6ROHCxOSAI6UH1A4cdfxbTKrFMxmTRZetTyc5/RBz9qq5sP9/fxjYjVOv0/N5W0kBLSar62ctpy8mL1OVUSmteToOlTIxhRsTkwOOlx9WO3DU27UEeH4bth/4G57qtQcv/qddJ28lJg96D3eslfNtwxt9XsSDNc49rXzw+3gRTyFPPL997kgsvsuX5KKN/MI57jmsSxQuTEwOKCk/Ep0tpiAjcasatN4ZN43vrmqCLPsAi3vdgZuyrOLQN7bVOPe0H7u3A6Oe1926Gx9XSe69xdF59kl+4cjtS+GV4Ha7Qw6w9Hg8cLlcumSvqqpKPSYm1p7jnJ5PMiW+D/PfxNDeP9KlKCK7ZIM2Y4o8zyS7Ys/0Q54+TyS7b7nrn1LnluTfD8I6+a3q59xRPV+16td3x8udHgLmbsNv9JU5Kx/sixeu/FvtJ88NtnLHBxiT8zNd8uHxEcyp+DjyW7uQ+V799GkM7nVz9LWavkNi8iWgUInpRnw69PvYIrqEVmKS55u+j/fGR2diKjtdgtW7PsJjNwX/k0weH8Gciq/utEZ1Sk9pp3bguHBRP3Tf9R4+1eeMZGuoz4P+56I6o0cfYPEz3pPiL+PFXd1xx6jobC2Vnj4utm/tF8KS85iYHJDu6qB24LgghxjMzcGLg6xf3B7c/hTyagwlGPrG3/AUXkSu/FXuriUYNfevGK/PSUUb+YUjty+FF7ty2oXMJ+/dU3B4B67IHq5rKFZsKFyGizpciqu736RrfHh8BHMqPraYHNAhLRNlFSd0iWKJ5/QJdEjN1CUKFyYmB7RxdYSnIk7OMcWZMrFd26bW3uog5zExOaB1SlucqvSgijewjynnqs6i4uwptGwRA4NnowwTk0Mu7ng5B+LFGLk9L+pwuS5ROPGe39qFzvfNwc1YXbgM11x0s66haLdq519xbfdc9Opwma4JxOMjmFPxscXkkIs79kPZ6ePxM54pxp08dQynKkpDJiVqXBwuoDkx39o9n2HHwS240uanZYou6/Z8gkszBmBgt+t0TTAeH8Gcio8tJgcN6n4D9h/fiTPnKnQNRaPKs6fhLtlTa1KixsXE5LCru4/AN+4NukTRKN+9HoN7fE+XKBKYmBw27KIf4JsDTEzRbKfYfnI7UuQwMTmsaZNmuKr7TSg8/LWuoWhSeGg7rsoegcQEHhqRxLXfCL536VjRaloLT8VJXUPRQP6iuvPgRgzPuUXXUKQwMTWSn1/3SyzbPk+XKBos+2o+7hsyVZcokpiYGon8P3PDe4zFF98s1DVkshX57+P2Kx9E82YtdA1FEkd+a40V39cn1uBY+RH06TJE15Jptu79Ah1SO2Jozx/E3P7Hkd9k67peo1F55hT2H9+la8gk+47tRNW5SpWUyBwc+a01dnwvf/IkhuXchpTkNFWmyCs7fQL/2Pkh/nXEC7omdve/UEyNjy2mMPnnG57D+j2f4Ow5a8NRZMnR+RsLl+JhsV3IPExMYZLcrAXuveYJfLTpTRzhf3aNqMMn92Hx5rfx02ufRFLTZF1LJmFiCqPmSSmY+oPfIb/4S+w6uFnXUjjtOrhJTBsxZdSrIik117VkGiamCHjgun8Dzp8VXbuluobCYd3uT+RJVfxs6BRdQ6ZiYoqQMf3GI6fT5WpQHzW+T7e/i5wO/fDDfj/RNWQyJqYIuip7OMZcNh5/WfsaTpQf1bXkpJLyw1iw9lXc2u8+DOga+P/vyFxMTBGW0aobfpH7W/ULEW+X4qxv3Ouxuehz/HL0G+jUMkr/42ac4shvzYT4Pt/5V6wXB1LfrGvRvX0fVU8Nt+fwNmzduxKDsm/Cdb2se7CbsH1rw/gCscVkkOsv+iH++frncbriJD7Z+kd1F0WqP3fJbuRt/QMqKsvwyA2/qk5KFH048lszLb4jZQeweOu7KD/jQd8u1/L/59fimOcgtu39AqnJaRjV98dom9pRP+Nj2vatifEFYovJUO1SO+Geax7H9/vcLrolK7C24G84JVoC5FNeUYovC5Zgu+i2jeo7Dj8ZPNE2KVH0YWIyXHbbHDx0/TPo32UIPv/6z9hS9HccPPGtfjY+HTxRhC3frsCK/L9gQNZQdQ+lbm0v1s9SLGBiihKXZlyJR4dPx6WZA1B0ZLu6tGXzt3/Hcc8hPUdsOy66a/LzLto4C98e+Rp9Mwbg8e/9Ny7pNMCagWIKzzFp0RafvG3v5n2rsXnvP1Bx9jSyRIuha9vecCW3VM/HAnn1/95j+dh7NB/Nm6WgX5dr0C/rGnUTPq9Y3b6hxEt8TExaNMcnT5Rv/PYLbCv+EslNU6wk1aY3mjVN0nNEjzNnK/CtSEQyIVVUluOyrKtxheiuhTp3FA/b11+8xMfEpMVKfHsO5WNr8WocFV08+W+uW7s6oHVKe/WrXuuUDuq/uJhC3gLmePkhlIhYS8Sj7Ja2btEW7dIy0D9rCJpWpHD71hAv8TExabEY39Gyg3CfKMK+47uxv6QQh07uU109maBau0SySumoElZiYhP1msZ0ruqsSjzeBHSi/LDqjnZs2QWZrbujS3p3ZLTuhrYuX8uI2zdYvMTHxKTFS3yHS906We0RXaZdomXlFgkhWyWOpk2SkNSkuegCJovHZPHYXD+KSTzKexc1E8/Lx0rR5Tpz7rR+FJN4rFSPoq66fFo8VqKJSHwHxHt2bJmFjFZdkdkqG13a9EB70TKqDbdvsHiJL8HtdodMTB6PBy6XS5fsVVVVqcfExNp/4HN6PonxBfsu8R0tP4DyM6UqkZw+dwoVZ/Wk/5b1MtlUqrrTaHKmOc41O41klaRaqOQlE1pykxZIFmXv1FyUk8TkapaGNqJ1JsXi+qsN4wuttvjYYtIYnz275SUkJKDmbmNSfHYYnz1T46s7rRERhRkTExEZh4mJiIzDxERExmFiIiLjMDERkXGYmIjIOLznt8b47NktLykpCWK/0SWLSfHZYXz2TI2PLSYiMg5HfmuMz57d8jjy28L4gjkVH1tMRGQcJiYiMg4TExEZh4mJiIzDxERExmFiIiLjMDERkXE48ltjfPbslseR3xbGF8yp+NhiIiLjcOS3xvjs2S2PI78tjC+YU/GxxURExmFiIiLjMDERkXGYmIjIOExMRGQcJiYiMg4TExEZhyO/NcZnz255HPltYXzBnIqPLSYiMg5HfmuMz57d8jjy28L4gjkVH1tMRGQcJiYiMg4TExEZh4mJiIzDxERExmFiIiLjMDERkXGYmIjIOAlutzvkAEuPxwOXy6VL9qqqqtRjYmLtOc7p+STGFywc8WVkZEDsN7pkMSk+O4zPnqnxceS3xvjs2S2PI78tjC+YU/HVndYo7i1duhRt2rTB7NmzdY1FltPT05GXl6driJzBxER1GjFiBMrLy/Hkk08iMzNT1cnHyZMnq/rc3FxVR+QUJiaql2effRbHjh1T55bS0tLUY0lJiaonchoTE9XLlClTqu+xU1paqh6bNGmCqVOnqr+JnMTERPU2bdq06pOa8pGtJWosTExUb7LVJFtJkvw5WJaJGgMTEzWIbDXJLh1bS9SYeM9vjfHZq7k8OU7lwQcfxMyZM9W9v71MiS8UxmfP1PiYmDST4iteciNOHVypSxRpLToORebIZbrkw+MjmFPxceS3Zkp8J3f/CaVfv4nOA6arMkXWSfdSlB79Ep2/t0DX+PD4COZUfDzHZJjSgnlIy7hRlyjSSt3LkNbzTl2icGFiMkxp0V/QMmOELlGklbrz0LLH7bpE4cLEZBDZjUvL4OUdppDduLRut+kShRMTk0HYjTMLu3GRw8RkEHbjzMJuXOQwMRmC3TizsBsXWUxMhmA3zizsxkUWB1hqkY6v6J0U9L55nfqbIm/HRwPR895KXbLH4yOYU/GxxWQAT9Ff2I0ziOzGubreqksUCRz5rUUyvgPLbker9kPQMuMmXUuRtH/DVKRd+nO07P5PusYej49gTsXHFpMBPHsXMikZpNT9SZ1JiRoXE1OElRX+md04g7AbZwYmpggr2z1fJCa2lkxR6v4Uqd3H6RJFChNThLEbZxbZjUvNHqtLFClMTBHEQZVmYTfOHExMEVRa8C67cQZhN84cTEwRVFr0PrtxBmE3zhwc+a2FOz75a1z5zrfR+QreqdIEJ4s/wYmjX6LdsHdUOdb3Py9T42OLKULUr3Gd2FoyRemBZaIbd4cuUaRx5LcW7vh2vJnAa+MMIq+N633/+bjZ/7xMjY8tpgg4ufs9pGXy1zhTyG5cWjZvcWISJqYIULc4YTfOGLIbl9bzx7pEJmBiigD+GmcWXhtnHiamMDOqG7d3LnpnPo0luhiP2I0zExNTmLEbZxZ248zExBRG8gfQRuvGLX8aCcPmolAXA1tDq3Bn5kAkeKeHV6naIHIZ3nmql1WMV4YNRO9hY1X9nctVJZY87Fuety7k+6hYxoplyHoRU81y9Tze14anFae2B7txRmJiCqPSPX9qvG7c8NEYV7AAH+y1ioVLFiD/ltEYqRLLY9j03Ic4X7wO59dMQs7Cl/CKnq+aTAx352HcO2Ke4g/xMmagu18Cy+/7hHr9vOFi2bPGYhRerV7eprtlIqnrfYrQ/3m57OkippplkdCungHo1y6+JQ+j/JNsIymV/3CA3TgjMTGF0cldc9GyU2P9e6ZsDO5ZhJlLisXfxfhgThHG3TFE/J2JiSvWYccDmWouZGWjv/VXoF3bkN9zEl4QiUe95nmRQBcuqm655AzI1n/5L1vIugs7VHKp6326YXAv/afiV95biE3IxSv6tSOfFknNL8k2FnnRbsued+sSmSTB7XaHHGDp8Xjgcrl0yV5VVZV6TEysPcc5PZ8UTfGdP1+FEx91Qe+b16pyY5Atme4bRMvm6UL0vnobXvG2TmQXTbSGfLrh5TULMBGilaTn6y1fO2cs9qy4S6Q4Qbag1HOPYMewMVgtWjeytWR11x4DRMvKKvupx/uoeKqX7R8fsNhbVu/xEgbL12apCsfJ7ZH/8dVoPVomcp9Y3f9CMTU+jvzWGju+k7vno3THW+h8xa9UuVF4D/h3gFHvjcb512WrpmYi8Tvo/ROGTA7P9PUlpupkUTMxyS6bf9mrnu8jn6qZmGzLC/BQIyamk8V5KD2+Hp1H/FnXWGJ1/wvF1PjqTmvkiJMF80Q3rpH/b1zWDXioZx5GyXNF3q5WDYWzXsJ8/XeAXn1F92kGpqgT2SL5PCNaPuocVU2Z6N0XmP9e4IntmuesQr6PHdXty8PEWVbrZcn0GaJbORa3NlJSkk4eWCa6cfw1zlRMTGEguw1lRQvDcO+lTNw6vpt4zMWE6tbMELzwXDfMv9v6xWsknsDLPYuwepd+2kueK3onV883Bo9jEvaoFlewka9/iJe3PWb9gnb1DPR/R7Zs6vk+toZg3ppJwLQx6rWjFuZisbfl1gjU9nB/irTuvMWJqdiV0xozvrB046jeQnXjpFjc/2pjanxsMYVBWLpxVG/sxpmPiamRyQZpWdEHvIWuIdT2kOOX2I0zGhNTIyvdI6+N+74uUaTJkd5pvH2u8ZiYGhm7cWZhNy468J7fWmPEd+jQIZQuloMqeadKE8huXP7Hg9Dz3kpdEyyW9j/e85tsnT2wiHeqNIi8Ns7V9Ue6RCbjcAGtMeLbvegHaJ95A098G2LfhilodelDtZ74jqX9j8MFKIjM95UHFjMpGYK/xkUXJqZGIm9xkprxPV2iSGM3LrowMTUSeafKlhmNdYsTaij+37jowsTUCGS3gf9wwBxqe/Dff0cVJqZG0Kh3qqQGYzcu+jAxNQL+wwGzsBsXfZiYGgG7cWZhNy76cOS35tR8ZYV/RvnOt9H5ium6hiJJ/t+4E0e/RLth76hyrO9//jjym6qV7Z7PbpxB2I2LThz5rTk13443E3htnEF2fDQQve8/Hzf7nz+O/Cbl5O4/IS2Dv8aZQv57prRu/L9x0YiJyUGlBe/yEhSDlMr7evfiLU6iEROTg/hrnFn477+jFxOTQ9iNMwu7cdGNickhVjeOd6o0hfw1Lq3nnbpE0YaJySFWN44X7ZqitDgPLXvcrksUbZiYHMBunFnYjYt+HPmtXch8B5bfgVbtBrPFZIh9G56G6+IJSM32nfiO5f0vlGiOj4lJu5D5ipfciFMHV+oSRVqLjkOROXKZLllief8LJaoTE0d+WxifPbvlJSQkqHsc+TMpPjuMz56p8fEcExEZh4mJiIzDxERExmFiIiLjMDERkXGYmIjIOExMRGQcJiYiMk6C2+0OOcDS4/HA5XLpkr2qqir1mJhYe45zej6J8QULR3wZGRkQ+40uWUyKzw7js2dqfBz5rTE+e3bL48hvC+ML5lR8dac1IqIwY2IiIuMwMRGRcZiYiMg4TExEZBwmJiIyDhMTERmHt9bVGJ89u+UlJSVB7De6ZDEpPjuMz56p8bHFRETG4chvjfHZs1seR35bGF8wp+Jji4mIjMPERETGYWIiIuMwMRGRcZiYiMg4TExEZBwmJiIyDkd+a4zPnt3yOPLbwviCORUfW0xEZByO/NYYnz275XHkt4XxBXMqPraYqE5Lly5FmzZtMHv2bF1jkeX09HTk5eXpGiJnMDFRnUaMGIHy8nI8+eSTyMzMVHXycfLkyao+NzdX1RE5hYmJ6uXZZ5/FsWPH1P+TS0tLU48lJSWqnshpTExUL1OmTKn+paW0tFQ9NmnSBFOnTlV/EzmJiYnqbdq0adUnNeUjW0vUWJiYqN5kq0m2kiT5L6BlmagxMDFRg8hWk+zSsbVEjYkjvzXGZ6/m8uQ4lQcffBAzZ85UI8C9TIkvFMZnz9T4vlNiKpjt2yGJKP70vDfwkiQvxxLTdxn5vePNBPS+eZ0uEVE82fHRQPS+3z5tcOQ3EcUsJiYiMg4TExEZh4mJiIzDxERExmFiIiLjMDERkXGYmIjIOAlutzvkAEuPxwOXy6VLPiWLMjjAkihOyQGWrUe7dSlQVVWVepQXedclVH6ROPKbiBqEI7+JKC4xMRGRcZiYiMg4TExEZBwmJiIyDhMTERnH+cS0dy56Zz6NJboYfqtwZ+ZYvLJXF0Oqbb5ivDJsIO5cLv5srM8jlztsLgp1sUEivo7rScb58CpdCLTk4YFI8HuucNZYJGSKOu8U8Dq5PQK3lZq/5rLVerF7vX4/9Zzfci5kG1wQv/2LbCXKcQehJjlYyq6+Vll3YUfxdIzUxeiUiYkr1mHecF10nNgx71qAh+behWxdE2tkIug9fRv6Y1FwEl3+NEYt1H9rOzYUIee5D3G+eJ01vT5EPyPs/QwzMRa3ZllFmZS6TyuyCtXEF83VM9D/Hfn6D/HytsfQe1axekbOP2rbJOyRy30nB49freMR++qS8QswUs9H9WeXF+Qkb60rJ7vnak6h8oucGrXFpHbOWXNFy8T3Leb7ZvR9c9nN52N9u1ivCfyW8X0Lel8j530M81Ekdj7v8u1eX3M+a57e4lvZmscq+7/XDpu4v7Plv8PjfZ/ARHmgiYM0wf9bO6A1JFt1vtiDWghechneeaqXVfMzqcqAdeb7fCHeR8UyVixD1ouYapar5/G+1hs3MPL1dVgyIB/zt/XFkoAvKvFedwPjbtFFpRg7tgH9e1n/fjzIrm3I75utkriMv/ucsVj8XDfrOa+9hdiEXExQXyaZuHV8N+TP+UytC5X0xt9gfQkMH41xyMPb+rNnP/AE+k/7XXXcduR7+u8LgYL3FWt/9iXF6vUaat8JsQ6tfUOsb1nv3a7+8/rtN6HeR8Wi94Heszba7BNW/N7Xhv6c4ZUoR2iGmuSwcrv6hsiftg0T5DfVmknIWfgYum94Qn0jLr5FJIXpvgMtf9oCDF4jv+1exTgxn3cFLXl4DB6H99suF/Pv1itdfut6vwXVN+RLol62dMTr0Q0vr1mgDnz71wfPJ+WLZCFjC24p5eFxHfee54DH77Jp/vsnB7/JbkMveS8P4+7QLQJ5oBQswAd6RypcsgD5t4wWB7LcYR7DJm8rQq0/+Rmt+arJHfVusTxvSwEz0N0vgfl/JtVywKvVy9t0tzwI6nqfIvR/Xi7bm1z8y1YrBfq1i2/JwyjvwSLWh9rWz28LiGfJw/K9HsEEXbYUYnUBxLbxrje/g1PwX18y4Z1fcRd6q5Ifmbx69q2uz+6VAxRsw46gpJeNwT2BTbu8raQhmCDi9iaqhrOS4Pz3vJ9xFd5e2A0PjRTvJ9fBtBwslutVrZ/Afd5SyzqUxHp5SB4X4jNnq3lFS1sdJ2LevjOs1l4d75MvWpty/9/xQEer7LdPhDy+6mCXF+Qk/wmBnOyeqzmFyi9yavyT3+ogE7KyRbNeJIKnrR2s94Aa33i36BaE2FFeEN+G1oa2dqpxz+suz/BH8HLPIsxcUrPpLRONL8H41Pf1lpwBoTpWvrjlN6x/Iqk2fLra2DWn4CQnY+qGwb10UR0o3piK8cGcIn0Qys8kdyZ9QKn1Z0MdkJPwgm4pTHw+F1i4qPrA9n0m/2UL1V3uut7HP1bJr6xbKa/o1458WiQ177qR60N2x7yPkkiiE8WXyRLve3mp5cgvCWudBR6c8kD3toRCK9yVr/+qyUp6tZH7oi9ReflakbLbWZ00/ZOGppKgd50vX4T5PXW3U+0TvtZi0D4v1bYOlRz09u7X/ssWZJJW262u99GtTS//faIhx0c4NXpiCn2wB7Kfr+ZOlYneffWfYmPsGb8A3fXO4206B6rl9TZCdiX8d44LFhyT6nZsELu7PJdS4HcQBrTCZNczWNAB2auviNbH95lqOUBrfZ+an92vLJOi/lMJlTwV0TILdV5NJUnfF0vAwSkPXL+WUCgqOdiyWkgNNwTz9JfLYtHttFqkYlItlxpU9zAfO0S8snVX3W2Un9mvmxR8Xkyoax36ffbQybf296l5bIXeJ2o/PsLJmOEC6sDU5DkBS82dysrwXtkPLLB2FtGFeWjOGJtuU+2vrz9rp1PUN5yNgIPbN9Udk6gZOVZ0n8Q3rtxJvS1M+Y1d3UWTk+x6Bgs6IGvu6NVCHaD1ex9bNZJgyHUjqaQrz+lZ60Wd/BZd9pDnzXQClF1bVB/otZCxqK6bRR3E6qC2DjZfi8g6GEN/CX0XsjsoWxqrVGtYdeOEwlmP+rpJYtpT87yY1IB1GCr51ut9bDl1fDjPmMTk637Iprv4htLdGblTzX/Ge97id3i8wNrw6mRfwE5ds8shhX59w/iat+ockF9zuppqTnsPbt8U3JWTMRVh9S5dlLJuwEM9RfdFJghvV6uGwlkv2baYrANyBqaoBCi+OZ/J83WfA+h14T0Xok6iBp9PCPk+dtS3ex4m6tbqkukz7NeNpFpFvvUiWyG45VWrmyeTul8XSS1Hn2f7YA7qt710LNa5Iqvb6m25yK6N90S46g5VnyS3yC/C2hKV7DIFb8dAI+/IRf60x0SCCPH5xX49xa7F1JB1qLa1r5unfsgISuwh3seWU8eH84xJTDliR52oWhnWiVjvjjDydX1CVz6nvtmtJn/2A6+pn4StlskYzBz/mu4KyG8B769toV9fc77a5eIhPKreS51ktGvON4DciX0nSyWrOyffx3fA6HNt+tzGSDyh+v8BCU2SB7w6aWmtB/XN6f9Tux+1LrzrTP20LtdFPd/HlujurJkETBujXjtqYe53Wzc1uuXqRw31GWTrpr7daCuWTd710PfV6vNmsmUtTxRb+0A+Xl7jOx9jfRHWfQ6rTqo7J/Zjv9addT5Sv2/mIkwQ2wnbCqsTsKUB61BtazncIXA91e997IU+PiLLiPsxycw/ccCHvhOwMU+eE3gUmGvGThDPZMt7JF6Lo33vwvF+TDErExPnjsVMu2EHFD6iOztyztjgXwkp4hIqKytDtpgOHz6M9u3b65JPwewk3sGSKE7JFlPPeyt1KZAc9S3JsUx1CZVfJLaYiMg4jT7ym4hij11ekFP0jPwmImogIxKT/0WP35ka4GhdY1Wf5TnynpIcD6TG4FijbyN5EWR9P1Ot81WPKarr86zCnQGXZwSOPg68dMP/ueDhGTKegPdRY6wCr5dT72e7bEHNr5+rHtcj37N+133VyjaWcJKfuz6fo7b5/LZlxD9P/cRki6n6GqJGJzZ49WUWmeqas7oG4hlPDhStYyySNbh1EdB3G6bog0GOPp453nvbEmtsjPd2IupC0b764mH/244oNcYRyQPn6hk1Rq/LA8t3obEak1SdgMQBaXu7E7E9nPjls/qawmgWffum44mp5rdxwAjtGpdt2H8b+3+7+s2jMn3oW27c+Z6aSwmIIeA9rdepq+wXAvnTxtSrhRGS/+1LbL6VXpGfXb2vPHj9vvG968N2PuspxT92/1ZCfT+TzeuD5pPz+N9aQ5X93muXbx17l6suBboDmC+WM0Ff4ybrfF8G/rcdsS5zqL5eS12CUeMSH+/1YPK95dXz70wKvExDLGW134hkOUC1+koBdQmHN7EF3u5EJpVXRBKzRsWHILdBzRaYP72N1HvpdfOK2L+q173fPhiw3mvOZz0jhNi/BbnfeuutfcRKyA2/jY8+Bmrc7sT/vRy9jU8jcDwxqaH53h1DrLDqK9rlBlSjbq1LEuT1PNVD4f3UfhuG0LfcmIA8PY8/MU/Ae+arof9qJPAt4mARrw1qWcmdSm90/8l/o3oF3L4kSB5m4jX1vuo2FFe/ZN3WJei2IiFuqaLWlxyJK2PXo3PVzlrPzxTi9bafvcD/1hqB5k/bhlfE+8i4Me1RK2657Gf6Ys+avpgY4qBW1zuqq9prJAt1LZ9vNHfAtXDqsh6R6GpeWqSSj98IcP/kJpdne7sTS/Ao+wtUMAOr79DrVF5GdLVeP2Jfzfe/r5OYb+YAv1uZ6C+jsN7Gp8btTnzqcRufCHO+K+d/PY//1fKqSexbafYXJNZ1G4Y6brmh/got8Fs9hHpf8yZjtbs+z8v3Da9uQ+G9rUvQFfghbqmiDrjQtzPxCvmZ6vl6S+jLPnKee8TqxsjWh7pQVWwLuS1lEvM+qjn9yINMXlqhL42RMVZfciITWnXXqJ7XwoW8MFkktpBX3Gtyf7S5PEO15GU8sttYfTmH/RdQIF/rTF5nVr1+VLL0V2PfVOu+rv3bSyYa37HiU9/XazVud+JTj9v4RJjziUldkGpda+W76ZkloKkqvs2D1XUbBr8DqJad1UdehzQWM/W1RQFdlAtWM9aa6nuNl/18oW9nUr/PVNftUALUcluRBl+FL1ucAdejWV0PedmHSvJzxYFa3X2o57VwtcQe+nYntZPJUsUjW7AigVstlXqch6llXQWwna+W/bvG9YL2pxjqOj4Chb7lUH33zchx/p7fYmXJprtsPsvmfHVXx/stqncA2QwN1oDbMNR2oPlTLTXrPdWG957fCaXeXblQtxFpKPtbqtR6O5N6fKZaX98AvtuF1LItNNUKuRtiG/t926tWs98V6/qLS33Lyyv9be+EUINqZfqtJ/VZ9MEl9wPb251EmF9MvnVf+/5dnSxFVy7it/Gpg11ekJO59/wWrPsLPaYSkf1V2+JbVN6eI0gDbsOgbxUScLsI9ZcfdWLS/8Rjbd8iWr27cjLW+l6FXxtfUzzglirqgLO5nUl9P1Oo16sn66/63FDNBFOTSOjW7V1r/ILln4gktRyrJVb7OTp/1p0gvMuQrwu8M6r97U4UmRRCdmmEUN3RC+a7Xa8v3tD7t0rqAV8wEb6NT4Q1zshvtTOKR/8DQfWH8zBKtUAeBZ4XTWj/bxWt/rdhEP3wub7bRUwcMCn4Bmdip1vyXL5+T+sm9t4LNtU9ei7wVzlnTqzmov8G6zME3FJFHjDq5KaMXZ/wlOds6vuZQr2+5nx1GDdedr3EMqpvk6KfqEEdfOJg9MalJtXNtE7M9tfbSS5H/mAxb7j8tq/tHJ2/wGX4bosihb7diVT/5OewnqJH8Iy1HvzjjZXb+NjlBTk5NfLbiNueRC95/uQCbl8iWz/qV51oHydjKLl+7xLJqVFaRLWQpwPkSf5wv2+Y8LYnxpOtNt6+xEziSyPG/3dfLGOLiYgahC0mIopLTExEZBwmJiIyDhMTERmHiYmIjJPgdrtD/irn8Xjgcrl0yadkUQZ/lSOKU/JXudaj3boUSF5mIsnBk3UJlV8kDhcgogbhcAEiiktMTERkHCYmIjIOExMRGYeJiYiMw8RERMZhYiIi4zTCPb+JKNbZ5QU5OXXP74TKysqQAywPHz6M9u3b65JPwewk/RcRxaOe91bqvwLJpCTJ2+vWJVR+kb7TyG9/MrtJdY30dHo+ifEFC0d8CQkJqLnbmBSfHcZnz9T4eI6JiIzDxERExmFiIiLjMDERkXGYmIjIOExMRGQcJiYiMs53GmDpr74DqpyeT2J8wcIRX1JSEsR+o0sWk+Kzw/jsmRofW0xEZByO/NYYnz275XHkt4XxBXMqPraYiMg4TExEZBwmJiIyDhMTERmHiYmIjMPERETGYWIiIuNw5LfG+OzZLY8jvy2ML5hT8bHFRETG4chvjfHZs1seR35bGF8wp+Jji4mIjMPERETGYWIiIuMwMRGRcZiYiMg4TExEZBwmJiIyDhMTERknwe12hxxg6fF44HK5dMleVVWVekxMrD3HOT2fxPiChSO+jIwMiP1GlywmxWeH8dkzNT6O/NYYnz275XHkt4XxBXMqvrrTGhFRmDExEZFxmJiIyDhMTERkHCYmIjIOExMRGYeJiYiMw3t+a4zPnt3yeM9vC+ML5lR8bDERkXE48ltjfPbslseR3xbGF8yp+NhiIiLjMDERkXGYmIjIOExMRGQcJiYiMg4TExEZh4mJiIzDkd8a47NntzyO/LYwvmBOxccWExEZhyO/NcZnz255HPltYXzBnIqPLSaq09KlS9GmTRvMnj1b11hkOT09HXl5ebqGyBlMTFSnESNGoLy8HE8++SQyMzNVnXycPHmyqs/NzVV1RE5hYqJ6efbZZ3Hs2DH1/+TS0tLUY0lJiaonchoTE9XLlClTqn9pKS0tVY9NmjTB1KlT1d9ETmJionqbNm1a9UlN+cjWEjUWJiaqN9lqkq0kSf4LaFkmagxMTNQgstUku3RsLVFj4shvjfHZq7k8OU7lwQcfxMyZM9UIcC9T4guF8dkzNT4mJu1C5iteciNOHVypSxRrWnQcisyRy3TJh8dHMKfi48hv7ULm2/FmAnrfvE6XKNbs+Ggget8ffJjw+AjmVHw8x0RExmFiIiLjMDERkXGYmIjIOExMRGQcJiYiMg4TExEZh4mJiIyT4Ha7Qw6w9Hg8cLlcumSvqqpKPcqLOmvj9HySKfGVLMrgAMsYJgdYth7t1iUfHh/BnIqPI7+1C5mPI79jG0d+hz++utMa1Sml/TX6LyJyAhOTA8oP/0P/RUROYGIiIuMwMRGRcZiYiMg4TExEZBwmJiIyDm+tq13IfAWzkziOKYbJcUw9763UJR8eH8Gcio8tJiIyDkd+axcyH0d+xzaO/A5/fGwxEZFxmJjITzFeGTYQdy7Xxe+ocNZYJAybi8J6LW8V7swci1f26iKRwMREjSgTE1esw7zhukhUT0xMMSu4tbLk4YHoPatY/a1aNZkD9RSixbJ3LnpXz/M0luhqLH9atIjGWs+plpGu08uaskHNJQTGIN+/+j0fXqWffwzzUYTHr2ariXyYmGJWJm4d3w3z35MJQFqFtxd2w0MjM1US6T4tB4uL1+G8mBbfIhLDdO98XqKLdfUM4LkP9Tx5GOVNQlIB8NAa8foVdyFbJrC78zDuHbm81zB4W5GeyY94z1HbJmGPes8P8fK2l0Qiki2qVzEO3fDymgWYmKXnpbjHxBTDsnvlAAsXWS2d5Yswv+dY3CoP/uHTRXKYjpGyXug9oJv+y8/eQmxCLl55QCQyYeTTk5BTsAAfVLdqctDbm0h2bUN+z0l4QXXZRLJ5PldVhyYTEhMRhcbEFMuGjxatkXzsEMlkyXt5yBl/A7LVE1YXy9ut6j7NpoUjk43+U8nKRn/9p9KzL3rrPwt3BcxpTyTDPeMXoLt+T2+XkshOohx3EGqSt8m0q/ef5EhPOdk95z85PZ+cTInPXEMwQXTTZi5ZhR3bdDdOKJz1KB6Ht1u1Dnues2kx9eor2kR+VAvKnmqZ1UP2AwvU+8mu3ENzxlzwr3/h5L+9vROPj+CpvvPJqbb42GKKcSPvyEX+tMdEItLduCCrMMWuxaRaSHmYqFs2S6bPEN21EMuQLbOCGZiiEo1ojT2Tp6r9qZPt6oS3VzcM7qX/JKohUY7QDDXJG4rb1ftP8poYOdk95z85PZ+cTInPaKo7B79unGy5PKESidWtWoQJ7+QC2wp9J7aVIZi3ZhIwbYzqeo1amIvF8kS3fjaQmFcsY/7dcnljsHr8pMDWlpD9wGt4edtjallynpnjX9PnmLIxuKf5v8r5b2/vxOMjeKrvfHKqLT5ekqJdyHy8JCW28ZKU8MfHrhwRGYeJiYiMw8RERMZhYiIi4zAxEZFxmJiIyDi857d2IfPxnt+xjff8Dn98bDERkXE4wFK7kPk4wDK2cYBl+ONji4mIjMPERETGYWIiIuMwMRGRcZiYiMg4TExEZBwmJiIyDhMTERknwe12hxxg6fF44HK5dMmevKG4JG+TWRun55NMia9kUQYHWMYwOcCy9Wi3Lvnw+AjmVHwc+a1dyHwc+R3bOPI7/PHVndaIiMKMiYmIjMPERETGYWIiIuMwMRGRcZiYyCgVpQXwHPkSJ/YvwbHd7+DQ16+ieNOz2PvlY9i/2XqUZVkvn5fzyfnl6yh2MDFRRJ0++Y1IMH8UCedfseOjQdi/6Zc4WjQPnhNbcLKiDE3a9oGr1+1Iv/IZtB30K/Uoy7L+TGIVSks240jhPPU6+XqZuI7u/oNaLkUv3vNbu5D5eM/v+jtTcRjlh1aj7OhalB9ZjSYtMtEicwRSxCQfExJ835UN3b7nz1fhVPFSlLs/xan9n+DcqWKktBuM1LaDkNJ+MJo1r31ZofCe3+GPjy0mCovTJV9h38Z/x4HtM1BauhMtetyJrFu3IuuWDWg36L+R0jk3ICl9F/L1cjntBr6oliuXL9+nrGwXDnw9Q7z/v6k4yHwc+a1dyHwc+R1a2cHPcVR0tWRrpk2/X6BF1m2qPhLbt6zwTzixbYZKYG2z70Rqx+v1s7XjyO/wx8cWEzWKkm//goLP/wklhz5Dh8EvIftH69Cyxzj9bGSkZt+u4pDxyLgKPhur4iTzMDGRo46LVkn+4mE4feYIuv7gE3TJ/RAtOg3Tz5pBxiPjyrr5ExWnjFfGTeZgYiJHVJQVonDVfag4dwIXjz+CTkPfQLOWvfSzZkpqeZGKU8Yr41bxi89BkcfERBfs0DczsW/DFLS95nVxoL+OhKYp+pnoIOOVcXccNgv7Nk7FofzX9TMUKUxM9J15jqzFrmWj0aRVd3S97Ss0bz9IPxOdWnS4Cl1/tB1oma0+lxy4SZHBxETfSfGW53G0aD663boObfs/rWtjQ/plT6nPdbToPfE5n9O1FE5MTA5I6XgtTuz7SJdim/yc3659FK4eY9F19HI0c3XWz8QW+bnk53P1+CekGHbyPh5w5Ld2ofMd/Pu9OFe6G5mXP4NmLTrq2thx5tRB1UpqktYDHa+brWt9Yn372mF8wZyKjy0mh8iDtfWA51H0j/txZNdbujY2HNn5lvpc8vPZJSUip3Hkt+bkfIfXTsXJgnmq9dQi/XJdG31OHd+C4s3PwdV9HDoNflHX2oun7evF+II5FR9bTI2g/aD/QtaoPOz/6jUc2PYCzp0p089EBxmvjPvgN6+jU+7HaHvlf+pniMKDiamRJLW6CKlDP0Zyl5tQsGw03FunGz94T8Yn45Txyrizb/1SDUIkCjcmpkaWfslDuHhCKVp0HYX9G6dg77on4Dli1gW/Mh4Zl4xPxinjlXETRQoTU5i07n0/etyxE+n9foGjRXOxZ+V4nNi/WD8bGfL9ZRwyHhmXjE/GSRRpTExhltr1ZnQd/Tkyhv8RnpPb8e36J1G88ZdqfNDZ00f0XI1DLl++j3y/fRuewtHD61UcMh4ZF5EpmJgipHm7K5B547tof91sNO9xOzylX2PPF+Ox++934uD236Ds0Eqcr7J+4fiu5Ovlcg5uf0ktVy5fvo/roh+jk0hIKVe8ruIgMg2HC2imxFdxfDs8+z+BZ+8SeNzLkJTSBU2S0tE0uY2Y2qKJmOSjNbXH2YrDYjqqpnP68WzFMZyrPI7K8n1wZdwIV9b34eqci+T0Puo9vLh9gzE+e+GOjyO/NVPjqzyRj3OnDqKyrBhVpw/gfMUhnBVlWZeY1BpVlSVo0qIjmoopsUUnJCR1UOWk1EwktcrRS7HH7RuM8dkLd3xMTBrjs2e3vP/4j//AL3/5S12ymBSfHcZnz9T42JXTGJ89u+UlJCSg5m5jUnx2GJ89U+PjyW8iMg4TExEZh4mJiIzDxERExmFiIiLjMDERkXGYmIjIOExMRGScBLfbHXKApcfjgcvl0iV7VVVV6jExsfYc5/R8EuMLFo74MjIyIPYbXbKYFJ8dxmfP1Pg48ltjfPbslseR3xbGF8yp+OpOa0REYcbERETGYWIiIuMwMRGRcZiYiMg4TExEZBwmJiIyDm+tqzE+e3bLS0pKgthvdMliUnx2GJ89U+Nji4mIjMOR3xrjs2e3PI78tjC+YE7FxxYTERmHiYmIjMPERETGYWIiIuMwMRGRcZiYiMg4TExEZByO/NYYnz275XHkt4XxBXMqPraYiMg4HPmtMT57dsvjyG8L4wvmVHxsMRGRcZiYiMg4TExEZBwmJiIyDhMTERmHiYmIjMPERETG4chvjfHZs1seR35bGF8wp+Jji4mIjMOR3xrjs2e3PI78tjC+YE7FxxYT1Wnp0qVo06YNZs+erWssspyeno68vDxdQ+QMJiaq04gRI1BeXo4nn3wSmZmZqk4+Tp48WdXn5uaqOiKnMDFRvTz77LM4duwY3G430tLS1GNJSYmqJ3IaExPVy5QpU6p/aSktLVWPTZo0wdSpU9XfRE5iYqJ6mzZtWvVJTfnI1hI1FiYmqjfZapKtJCkxMVGViRoDExM1iGw1yS4dW0vUmJiYqEGeeOIJ3HXXXZg0aZKuIXJegtvtDjnA0uPxwOVy6ZK9qqoq9Sib9rVxej6J8QVzIr7yfd+i8shRnD1xApUnSnBOTGdPnlTTGTG16NABpw4dQrOWLdFUTM1atUJiy1aiLKbWrZHUri1SunTVSwsUD+vPH+MLrbb4OPJbi/f4jmzaiENfrsahtV+iVdduOH/2DJJSXEgSO05Saqo1uVKRrP+uLCtDhZgqPWKSj+rvclSWlwFNmuLkvr3oMPAqdLh6MNr166/eQ4rV9RcK4wuttviYmLR4i69StHx2fbYMFV9/hcMbNyC9ew+07dkT7S66GMmiFXShTp88gaM7d+JIwS6UFBaiwxUDRJK6Bq0v74dmIrFF+/qTGF8wp+JjYtLiJb4zovmcP/v/cHLnN2iR3gbtL7oIbUUyStS/tjWGqrNncUS831GRpMqPHUOaeL9LJvwMTVNS9Bz2uH2DxUt8dXcEKWZ8M+dt/P2hB+Bq3hxXjp+AS384Bu17X9KoSUlKbNoUHS65FJeMHqPeNzU5GZ/9/D5888c5eg6iQExMcWDP+wvwt9t/hISyUgyd9AQyRbcqkjIHXIlhT/wCOFGCv91xGwoXvq+fIbIwMcWw/cs/xaf33o1Te3bj+qn/hq7XDNHPmKHbkGtx/VNT4dm1E8t+eg/2f75cP0PxjokpRm1++SWc3LoFVz/4MHoOv1HdQ8lECYmJ6HXjTRj0swdwcvNGbPnty/oZimdMTDFozS8mIb19O/QYdh2atWiha80mhyX0GHY9WrVJx6on/lXXUrziPb+1WIiv7Ntv8eWUyRh4/wNI7dBR10af0gMHsP6t3+OiKf+GrMsu17X24mn7SvESH1tMMcK94nNsf/k3uOHpf4/qpCSldeqkzj3te/MNHPhipa6leMJxTFo0x1e06EMc37QRl9w8WtfEjq/++iHaDhyErj+w/2zxsH39xUt8bDFFucIP38eJrVtiMilJcqxVyeZNKPrrQl1D8YCJKYrJn9dLtmxBzshRuiY2yc93bOMGFK/4u66hWMfEFKVKi4qw58/vxWxLqSbZciqY9w7K9u3VNRTLmJii1KrJEzHovvt1KT7Iz7vqiYm6RLGMiSkKffH4o2pIQLyRgzEHTPgpk1McYGKKMnJEd9aVA6N+SMB3ldYpA5379cOWVzlCPJYxMUUR9+efIalZU3Ts01fXxKdOl10O+WN0sVgfFJs48luLhvhWPXS/uvYtWi4zaUyVHg/W/v5NXPM/b6hyLGxfifFZ2GKKEnsXfYiM/lcwKWny2rqOffti3+KPdA3FEo781kyPT95PSd66xNS7BERC1blzWPHrFzH8j/OifvsyvkBsMUWB/D/MRo8bb2JSqkHeeTP7uhtQMG+urqFYwcRkOHmP7n2f/A1dB1+ja8hftyFDsG/Jxzh76pSuoVjAxGS4/DlvoccNN+oS2ZGtyfw5b+sSxQImJoNVlpbiRH4+Mq+4QteQnc4DrkTJV9txptyjayjaMTEZ7PCGdXC1a6dLVJuUtm1xZP16XaJox8RksEOrV6Ndz566RLWR6+ngmn/oEkU7JiaDHd64Xv0zSqqbXE+HN7DFFCs48lszLb6jmzfh2wV/Qr87xukaqsvm+e+i27i70KbvZbrGx7TtWxPjC8QWk6EOr1vLblwDte3ZS6y3L3WJohlHfmumxffZA/dhwE/uQXLLlrqG6nK6pASbRKvp+plv6hof07ZvTYwvEFtMBjq5ezdade3KpNRAzVu3RlpGZ5wsKtQ1FK2YmAxUfuggqvQ3DzXM+bOVOHXwoC5RtGJiMlDl8eNITknRJWqIpJRUVIj1R9GNiclAp48fRVJqqi5FRt6UgWg+QEy3vY7nbxuIe1bpJwyXlOoSiemoLlG0YmIyUMWxYxFOTMXI/6Ybfr1oHU7/5WE885d1+MMQ/ZThksV6qzh6TJcoWjExGSiyiakYr902Br8oLMIvRsuWkizrFlPxXFw+4Gm89s5YqzU1YCxeK16Fe9TfYpoS+WaVXG9y/VF0Y2IyUGVJCZJckUpMmXj0Lx/i19nA7b+zaynlYRZew+kN6/BhrkxeL+Eq2bJaNAkX570kEpWeLUJUYirhOaZox8RkoIoTJapLYqZueGB4pvor57JuQO4TeFQWM7PRT9VGlpWYSnSJolWC2+0OOcDS4/HA5XLpkr2qqir1mJhYe45zej4pVuPbPePXuPLHd+lSJFjduS8nyxaT39/Zois3eht+s2E6csVcRaJLl7P1CZx+QTarZJdOtp4WWIkqgta/Oxc9Jv1ClywmbV87jC8QR35rJsW3/Gf3YuCE+yJ+nikaE1NFWSnWv/02hv8+8MZxJm1fO4wvUN1pjcIuuVVrcYCV6RI1RKVYb8mtW+sSRSsmJgMliQOr0sPE9F1YiSldlyhasSunmRTf1t/9FmmiG5fRr7+uofpyb9qIsvJT6Psvj+oai0nb1w7jC8QWk4Gat2mrvvmp4WQXOLltG12iaMXEZKDk9DbqX2BTw8n1lpzeVpcoWjExGSgpPR2V5eW6RA1hJSaeY4p2TEwGatGxo7w3qS5RQyQ0a4qUOs6rkPl4z2/NtPi++JcHccXdP0Hzlq10DdXlVEmJuu/3kNde1zU+pm3fmhhfILaYDNXuyoE4unOnLlF9HN35jVhvg3SJohmHC2imxXdk8ybsmTcXl/O/pNTb5nnvoudPxqPtZZfrGh/Ttm9NjC8QW0yGatevP44X7kGVbhpT7c5VVuLEvr22SYmiDxOTwToMGIgjontCdZPrqQO7cTGDiclgHa66GkcLCnSJanN09261vig2MDEZrP2AK1HOG+vXS/mxY2gn1hfFBiYmgzVLS0Ori3NQvHGDriE7+9evQ3qfPmjG/ywTM5iYDJczfgIKli3TJbJTsOxTsZ5+qksUC5iYDNdUtAK6jhqFolVf6BryV/jFSmTd/EM0SU7WNRQLOPJbMz2+ZXePw/VPTUVCPW5ZGi/kUIoVL/0Gw96aE/Xbl/EF4l4eJXqM+zEKPl+uSyTJ9dFj3J26RLGEI7+1aIhvxc/vw6CfPYCkOm4wHw+89/YeOnOWKsfC9pUYn4UtpijS654J2LdhvS7Ft33r1yPnp/fpEsUaJqYokjHsOpypOo8DW7fomvjk3rwJ55o0QebQ63QNxRompihz+cRJ2L9pE0pFMzgenSwuhnv7Nlz26ERdQ7GIiSkKDZnxW6x/6/c4r/+5YLyQv8Jt/MMcXPPrl3UNxSompih17Uu/xdr/e1OX4oP8vNeKpEyxj4kpSqVmZaHnnXfjq78u1DWxbfvCD3DxPRPgyozw/x+nsGBiimKZw65D24FXIX/Jx7omNuUv/hjtrxmCTkOu1TUU6zjyW4vm+PaJxFSycQMu/eEYXRM7tn/wPtpcNRidc7+vawLFw/b1Fy/xscUUA7qM/AHaXXcDvpz1vzFzQlye6F79xuvoMOJ7IZMSxS6O/NZiIb6yfXux6omJGDDhp0jrlKFro48cErDxj3OQM/Xf0e3yfrrWXjxtXyle4mOLKYakdsnC8D/OQ/7ST6J2EKZ7y2bs+mw5ct/9E5I7dNS1FG+YmGLQVS/8BidKSlDw+WdR86/G5bVvMt7S0lJc8+sZupbiFRNTjLr8scfR+ooBWPv7Wdj16VJUnTunnzGLPJe0U7Tw1r/9FtIHDsRlj/yrfobiGRNTDMu8fjhufOsPcF2cgxW/fhFFX6zUz5ihcOUKdT+ltEsuxfDfz0bG0Ov1MxTvmJjiQPaYW5E7fwES0ttgxW/+W90jO5L2r1uLv4tEmdi2HXLn/QndRsfeMAe6MExMceSiu+/BDW++jVNnz2Hd2/+nRlMf+mo7zulfUhqL/GeUB7dvw1fi/dbNfgvl56pUS+6iu36i5yAKxMQUZ5q2aIE+D/0zrpr+32gxcBCOFrvxxSszsHneXOxb+yVOl5ToOS/MKbEcubxN787FF6++guMHDqLTiFwMeO5XyPnZA7xHN9WK45i0eI/v6NYtOLRmNQ6JZJKWmYnzopWTlOoSUxqSU1PFo29KFnXyV7TKsrLqqUI9yjqPePOmKBPL7jDwKnS4enDAv+2O1fUXCuMLrbb4Etxud8jE5PF44KrjNq5VeqRxYh03yXd6PonxBXMivvL9+3Dm6BGcFa2eM2I6e+IEzpaewJkTJ3Gm9CRatG+PU4cPo1laSzRr1RJNW7ayplat0Cw9HUlt26NF5856aYHiYf35Y3yh1RYfW0wa47PH+EJjfMGciq/utEZEFGZMTERkHCYmIjIOExMRGYeJiYiMw8RERMZhYiIi4/Ce3xrjs8f4QmN8wZyKjy0mIjIOR35rjM8e4wuN8QVzKj62mIjIOExMRGQcJiYiMg4TExEZh4mJiIzDxERExmFiIiLjcOS3xvjsMb7QGF8wp+Jji4mIjMOR3xrjs8f4QmN8wZyKjy0mIjIOExMRGQb4/4hHMN+PO6atAAAAAElFTkSuQmCC)"
      ],
      "metadata": {
        "id": "r5e37taN2YXo"
      }
    },
    {
      "cell_type": "code",
      "source": [
        "#Entrada\n",
        "valorcarro = 25000"
      ],
      "metadata": {
        "id": "UZeuMAOA4nR2"
      },
      "execution_count": 1,
      "outputs": []
    },
    {
      "cell_type": "code",
      "source": [
        "#Processamento\n",
        "impostostrib = (valorcarro*45/100) + valorcarro\n",
        "valordist = (impostostrib*28/100) + impostostrib"
      ],
      "metadata": {
        "id": "rUaMGC9E8w3D"
      },
      "execution_count": 2,
      "outputs": []
    },
    {
      "cell_type": "code",
      "source": [
        "#Saída\n",
        "print(f\"O valor final do carro é {valordist:.2f}\")"
      ],
      "metadata": {
        "id": "h5nsjPsm80Rc",
        "outputId": "0c7fc332-2a8b-4913-e2fe-907c2480ad25",
        "colab": {
          "base_uri": "https://localhost:8080/"
        }
      },
      "execution_count": 3,
      "outputs": [
        {
          "output_type": "stream",
          "name": "stdout",
          "text": [
            "O valor final do carro é 46400.00\n"
          ]
        }
      ]
    },
    {
      "cell_type": "markdown",
      "source": [
        "##Exercício 2"
      ],
      "metadata": {
        "id": "qlWINeT6819A"
      }
    },
    {
      "cell_type": "markdown",
      "source": [
        "2)  Faça um algoritmo que faça conversão de minutos e horas em segundos. Solicite ao usuário a hora e os minutos separado."
      ],
      "metadata": {
        "id": "Ze4om8v585i6"
      }
    },
    {
      "cell_type": "markdown",
      "source": [
        "![image.png](data:image/png;base64,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)"
      ],
      "metadata": {
        "id": "HmEmU-xU9KsR"
      }
    },
    {
      "cell_type": "code",
      "source": [
        "#Entrada\n",
        "horas = float(input(f\"Insira o valor em horas:\"))\n",
        "minutos = float(input(f\"Insira o valor em minutos\"))"
      ],
      "metadata": {
        "id": "M-izL-sK_Srw",
        "outputId": "8d048474-8fe0-4cb7-c9ef-c7c80f01c481",
        "colab": {
          "base_uri": "https://localhost:8080/"
        }
      },
      "execution_count": 4,
      "outputs": [
        {
          "name": "stdout",
          "output_type": "stream",
          "text": [
            "Insira o valor em horas:4\n",
            "Insira o valor em minutos40\n"
          ]
        }
      ]
    },
    {
      "cell_type": "code",
      "source": [
        "#Processamento\n",
        "valordec = (minutos/60) + horas"
      ],
      "metadata": {
        "id": "szvaxh03_faz"
      },
      "execution_count": 6,
      "outputs": []
    },
    {
      "cell_type": "code",
      "source": [
        "#Saída\n",
        "print(f\"O valor total em decimal é de {valordec:.2f}\")"
      ],
      "metadata": {
        "id": "8AwTahL0_mPC",
        "outputId": "6e237933-1ab8-475c-b943-a8388c7e7747",
        "colab": {
          "base_uri": "https://localhost:8080/"
        }
      },
      "execution_count": 7,
      "outputs": [
        {
          "output_type": "stream",
          "name": "stdout",
          "text": [
            "O valor total em decimal é de 4.67\n"
          ]
        }
      ]
    },
    {
      "cell_type": "markdown",
      "source": [
        "##Exercício 3"
      ],
      "metadata": {
        "id": "sMeTIZlV_vEd"
      }
    },
    {
      "cell_type": "markdown",
      "source": [
        "3) Continuando do exercício anterior, um funcionário trabalha em determinada empresa e quer saber quanto irá ganhar de hora extra. Você deverá fazer um algoritmo que solicite quantas horas e quantos minutos ele trabalhou, solicite horas e minutos de forma separada. Depois pergunte quanto ele ganha por hora e informe quanto ele irá ganhar. Sabendo que nessa empresa o funcionário ganha 70% a mais pelas horas trabalhadas."
      ],
      "metadata": {
        "id": "g-Z_cvcG_1bD"
      }
    },
    {
      "cell_type": "markdown",
      "source": [
        "![Captura de tela 2025-03-21 154033.png](data:image/png;base64,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)"
      ],
      "metadata": {
        "id": "ZBH8rEYiAn0h"
      }
    },
    {
      "cell_type": "code",
      "source": [
        "#Entrada\n",
        "horas_trab = float(input(f\"Digite o valor de horas trabalhadas\"))\n",
        "min_trab = float(input(f\"Digite o valor de minutos trabalhados:\"))\n",
        "valor_hora = float(input(f\"Digite o valor que você ganha por hora:\"))"
      ],
      "metadata": {
        "id": "tQmlIsdWApJu",
        "outputId": "852b9662-c69e-4f29-d7b5-970a49780469",
        "colab": {
          "base_uri": "https://localhost:8080/"
        }
      },
      "execution_count": 8,
      "outputs": [
        {
          "name": "stdout",
          "output_type": "stream",
          "text": [
            "Digite o valor de horas trabalhadas20\n",
            "Digite o valor de minutos trabalhados:45\n",
            "Digite o valor que você ganha por hora:25\n"
          ]
        }
      ]
    },
    {
      "cell_type": "code",
      "source": [
        "#Processamento\n",
        "convertido = horas_trab + (min_trab/60)\n",
        "salario = (convertido * valor_hora)\n",
        "salario2 = (salario*70/100) + salario"
      ],
      "metadata": {
        "id": "E_FasX_7A07t"
      },
      "execution_count": 9,
      "outputs": []
    },
    {
      "cell_type": "code",
      "source": [
        "#Saída\n",
        "print(f\"O valor ganho será de {salario2:.2f}\")"
      ],
      "metadata": {
        "id": "ImdYhix1A4Pb",
        "outputId": "c7c841a4-63a5-4394-affe-dd683fa01650",
        "colab": {
          "base_uri": "https://localhost:8080/"
        }
      },
      "execution_count": 10,
      "outputs": [
        {
          "output_type": "stream",
          "name": "stdout",
          "text": [
            "O valor ganho será de 881.88\n"
          ]
        }
      ]
    }
  ]
}