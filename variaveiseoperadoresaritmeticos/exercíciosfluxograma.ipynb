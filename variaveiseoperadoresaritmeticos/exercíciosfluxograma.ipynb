{
  "nbformat": 4,
  "nbformat_minor": 0,
  "metadata": {
    "colab": {
      "provenance": [],
      "authorship_tag": "ABX9TyMMjHeGQUr/qFaHZ6KBfa6E",
      "include_colab_link": true
    },
    "kernelspec": {
      "name": "python3",
      "display_name": "Python 3"
    },
    "language_info": {
      "name": "python"
    }
  },
  "cells": [
    {
      "cell_type": "markdown",
      "metadata": {
        "id": "view-in-github",
        "colab_type": "text"
      },
      "source": [
        "<a href=\"https://colab.research.google.com/github/lucasfreitas14/PA_2025/blob/main/variaveiseoperadoresaritmeticos/exerc%C3%ADciosfluxograma.ipynb\" target=\"_parent\"><img src=\"https://colab.research.google.com/assets/colab-badge.svg\" alt=\"Open In Colab\"/></a>"
      ]
    },
    {
      "cell_type": "markdown",
      "source": [
        "##Exercício 1"
      ],
      "metadata": {
        "id": "et-yTNX5E53g"
      }
    },
    {
      "cell_type": "code",
      "source": [
        "#Entrada\n",
        "valorcarro = 25000\n"
      ],
      "metadata": {
        "id": "bg8zBcWYEAm7"
      },
      "execution_count": 2,
      "outputs": []
    },
    {
      "cell_type": "code",
      "source": [
        "#Processamento\n",
        "impostostrib = (valorcarro*45/100) + valorcarro\n",
        "valordist = (impostostrib*28/100) + impostostrib"
      ],
      "metadata": {
        "id": "6w1_VTpeEH6y"
      },
      "execution_count": 4,
      "outputs": []
    },
    {
      "cell_type": "code",
      "source": [
        "#Saída\n",
        "print(f\"O valor final do carro é {valordist:.2f}\")"
      ],
      "metadata": {
        "colab": {
          "base_uri": "https://localhost:8080/"
        },
        "id": "JE3zA43EEnpi",
        "outputId": "0af23f99-a077-43c4-e900-705d894ffd37"
      },
      "execution_count": 5,
      "outputs": [
        {
          "output_type": "stream",
          "name": "stdout",
          "text": [
            "O valor final do carro é 46400.00\n"
          ]
        }
      ]
    },
    {
      "cell_type": "markdown",
      "source": [
        "##Exercício 2"
      ],
      "metadata": {
        "id": "Wa1iZCQ0FAqP"
      }
    },
    {
      "cell_type": "code",
      "source": [
        "#Entrada\n",
        "horas = float(input(f\"Insira o valor em horas:\"))\n",
        "minutos = float(input(f\"Insira o valor em minutos\"))"
      ],
      "metadata": {
        "colab": {
          "base_uri": "https://localhost:8080/"
        },
        "id": "QZbYq1OIFDOo",
        "outputId": "ce4c9862-596d-4137-c74f-1e4146710bff"
      },
      "execution_count": 6,
      "outputs": [
        {
          "name": "stdout",
          "output_type": "stream",
          "text": [
            "Insira o valor em horas:4\n",
            "Insira o valor em minutos40\n"
          ]
        }
      ]
    },
    {
      "cell_type": "code",
      "source": [
        "#Processamento\n",
        "valordec = (minutos/60) + horas"
      ],
      "metadata": {
        "id": "o7IpjvBhFflT"
      },
      "execution_count": 8,
      "outputs": []
    },
    {
      "cell_type": "code",
      "source": [
        "#Saída\n",
        "print(f\"O valor total em decimal é de {valordec:.2f}\")"
      ],
      "metadata": {
        "colab": {
          "base_uri": "https://localhost:8080/"
        },
        "id": "H0KqFk74FtKy",
        "outputId": "ea88f316-17bc-4fa2-8dc0-8aef997a2b85"
      },
      "execution_count": 9,
      "outputs": [
        {
          "output_type": "stream",
          "name": "stdout",
          "text": [
            "O valor total em decimal é de 4.67\n"
          ]
        }
      ]
    },
    {
      "cell_type": "markdown",
      "source": [
        "##Exercício 3"
      ],
      "metadata": {
        "id": "-8s7xnSsF6ND"
      }
    },
    {
      "cell_type": "code",
      "source": [
        "#Entrada\n",
        "horas_trab = float(input(f\"Digite o valor de horas trabalhadas\"))\n",
        "min_trab = float(input(f\"Digite o valor de minutos trabalhados:\"))\n",
        "valor_hora = float(input(f\"Digite o valor que você ganha por hora:\"))"
      ],
      "metadata": {
        "colab": {
          "base_uri": "https://localhost:8080/"
        },
        "id": "Yr0hOw4hF85J",
        "outputId": "106e4f95-9a44-4c6f-9fda-6e0a6658acd0"
      },
      "execution_count": 10,
      "outputs": [
        {
          "name": "stdout",
          "output_type": "stream",
          "text": [
            "Digite o valor de horas trabalhadas15\n",
            "Digite o valor de minutos trabalhados:30\n",
            "Digite o valor que você ganha por hora:20\n"
          ]
        }
      ]
    },
    {
      "cell_type": "code",
      "source": [
        "#Processamento\n",
        "convertido = horas_trab + (min_trab/60)\n",
        "salario = (convertido * valor_hora)\n",
        "salario2 = (salario*70/100) + salario"
      ],
      "metadata": {
        "id": "c2-haFDPGvKa"
      },
      "execution_count": 11,
      "outputs": []
    },
    {
      "cell_type": "code",
      "source": [
        "#Saída\n",
        "print(f\"O valor ganho será de {salario2:.2f}\")"
      ],
      "metadata": {
        "colab": {
          "base_uri": "https://localhost:8080/"
        },
        "id": "UcltBGmhHNlM",
        "outputId": "274c0760-ecb5-4640-caea-9dd90eae64f6"
      },
      "execution_count": 12,
      "outputs": [
        {
          "output_type": "stream",
          "name": "stdout",
          "text": [
            "O valor ganho será de 527.00\n"
          ]
        }
      ]
    }
  ]
}