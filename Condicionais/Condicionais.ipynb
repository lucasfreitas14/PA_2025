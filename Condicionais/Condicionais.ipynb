{
  "nbformat": 4,
  "nbformat_minor": 0,
  "metadata": {
    "colab": {
      "provenance": [],
      "authorship_tag": "ABX9TyP/knezYHUwyptOEJ0MYgtW",
      "include_colab_link": true
    },
    "kernelspec": {
      "name": "python3",
      "display_name": "Python 3"
    },
    "language_info": {
      "name": "python"
    }
  },
  "cells": [
    {
      "cell_type": "markdown",
      "metadata": {
        "id": "view-in-github",
        "colab_type": "text"
      },
      "source": [
        "<a href=\"https://colab.research.google.com/github/lucasfreitas14/PA_2025/blob/main/Condicionais/Condicionais.ipynb\" target=\"_parent\"><img src=\"https://colab.research.google.com/assets/colab-badge.svg\" alt=\"Open In Colab\"/></a>"
      ]
    },
    {
      "cell_type": "markdown",
      "source": [
        "##Tipos de Condicionais"
      ],
      "metadata": {
        "id": "6CwqqfSyEXjK"
      }
    },
    {
      "cell_type": "markdown",
      "source": [
        "##Condicionais simples\n",
        "###Possui apenas duas Possibilidades (True or False)"
      ],
      "metadata": {
        "id": "NxXVxgoAEbIJ"
      }
    },
    {
      "cell_type": "code",
      "source": [
        "nota1 = float(input(\"Nota 1:  \"))\n",
        "nota2 = float(input(\"Nota 2:  \"))\n",
        "nota3 = float(input(\"Nota 3:  \"))\n",
        "\n",
        "media = (nota1+nota2+nota3)/3\n",
        "\n",
        "print(media)\n",
        "\n",
        "if (media >= 6):\n",
        "  print(\"Você foi aprovado!\")\n",
        "else:\n",
        "    print(\"Você foi reprovado!\")"
      ],
      "metadata": {
        "colab": {
          "base_uri": "https://localhost:8080/"
        },
        "id": "Gh18oUknE66U",
        "outputId": "aa255e0a-0365-48cc-d844-77697c74b90d"
      },
      "execution_count": null,
      "outputs": [
        {
          "output_type": "stream",
          "name": "stdout",
          "text": [
            "Nota 1:  10\n",
            "Nota 2:  10\n",
            "Nota 3:  10\n",
            "10.0\n",
            "Você foi aprovado!\n"
          ]
        }
      ]
    },
    {
      "cell_type": "code",
      "source": [
        "#Primeira Nota\n",
        "nota = float(input(\"Digite a Primeira nota:  \"))\n",
        "if (nota>=0 and nota<=10):\n",
        "  print(\"Nota 1 Computada\")\n",
        "  nota1 = nota\n",
        "else:\n",
        "  print(\"Essa nota não foi Registrada pois não estava entre 0 e 10!\")\n",
        "\n",
        "  #Segunda Nota\n",
        "nota = float(input(\"Digite a Segunda nota:  \"))\n",
        "if (nota>=0 and nota<=10):\n",
        "  print(\"Nota 2 Computada\")\n",
        "  nota2 = nota\n",
        "else:\n",
        "  print(\"Essa nota não foi Registrada pois não estava entre 0 e 10!\")\n",
        "\n",
        "  #Terceira Nota\n",
        "nota = float(input(\"Digite a Terceira nota:  \"))\n",
        "if (nota>=0 and nota<=10):\n",
        "  print(\"Nota 3 Computada\")\n",
        "  nota3 = nota\n",
        "else:\n",
        "  print(\"Essa nota não foi Registrada pois não estava entre 0 e 10!\")"
      ],
      "metadata": {
        "colab": {
          "base_uri": "https://localhost:8080/"
        },
        "id": "MUu9XuSLJT8Q",
        "outputId": "c4876eb8-e19d-4831-9aa5-e14a9b02a82d"
      },
      "execution_count": null,
      "outputs": [
        {
          "output_type": "stream",
          "name": "stdout",
          "text": [
            "Digite a Primeira nota:  7\n",
            "Nota 1 Computada\n",
            "Digite a Segunda nota:  9\n",
            "Nota 2 Computada\n",
            "Digite a Terceira nota:  8\n",
            "Nota 3 Computada\n"
          ]
        }
      ]
    },
    {
      "cell_type": "markdown",
      "source": [
        "##Condicionais compostos\n",
        "\n",
        "###Possui mais de Duas Possibilidades de decisão"
      ],
      "metadata": {
        "id": "yyHyUonJNZ6i"
      }
    },
    {
      "cell_type": "code",
      "source": [
        "#Primeira Nota\n",
        "nota = float(input(\"Digite a Primeira nota:  \"))\n",
        "if (nota>=0 and nota<=10):\n",
        "  print(\"Nota 1 Computada\")\n",
        "  nota1 = nota\n",
        "else:\n",
        "  print(\"Essa nota não foi Registrada pois não estava entre 0 e 10!\")\n",
        "\n",
        "  #Segunda Nota\n",
        "nota = float(input(\"Digite a Segunda nota:  \"))\n",
        "if (nota>=0 and nota<=10):\n",
        "  print(\"Nota 2 Computada\")\n",
        "  nota2 = nota\n",
        "else:\n",
        "  print(\"Essa nota não foi Registrada pois não estava entre 0 e 10!\")\n",
        "\n",
        "  #Terceira Nota\n",
        "nota = float(input(\"Digite a Terceira nota:  \"))\n",
        "if (nota>=0 and nota<=10):\n",
        "  print(\"Nota 3 Computada\")\n",
        "  nota3 = nota\n",
        "else:\n",
        "  print(\"Essa nota não foi Registrada pois não estava entre 0 e 10!\")\n",
        "  print(\"Execute novamente o Programa\")\n",
        "\n",
        "media = (nota1+nota2+nota3)/3\n",
        "print(media)"
      ],
      "metadata": {
        "colab": {
          "base_uri": "https://localhost:8080/"
        },
        "id": "G1WFmiYYPGJx",
        "outputId": "4d03872c-4a0d-4dcf-a20d-4d4cc49bcf66"
      },
      "execution_count": null,
      "outputs": [
        {
          "output_type": "stream",
          "name": "stdout",
          "text": [
            "Digite a Primeira nota:  10\n",
            "Nota 1 Computada\n",
            "Digite a Segunda nota:  10\n",
            "Nota 2 Computada\n",
            "Digite a Terceira nota:  10\n",
            "Nota 3 Computada\n",
            "10.0\n"
          ]
        }
      ]
    },
    {
      "cell_type": "code",
      "source": [
        "if (media<=5):\n",
        "  print(\"Sua menção final é I\")\n",
        "elif (media>=5) and (media<=6.5):\n",
        "    print(\"Sua menção Final é R\")\n",
        "elif (media>=6.5) and (media<=8.5):\n",
        "    print(\"Sua menção Final é B\")\n",
        "else:\n",
        "   print(\"Sua menção Final é MB\")"
      ],
      "metadata": {
        "colab": {
          "base_uri": "https://localhost:8080/"
        },
        "id": "s4N7wsTJQIIf",
        "outputId": "7c49aa71-6d44-4ae9-a7f1-64ae0d0b67c8"
      },
      "execution_count": null,
      "outputs": [
        {
          "output_type": "stream",
          "name": "stdout",
          "text": [
            "Sua menção Final é MB\n"
          ]
        }
      ]
    },
    {
      "cell_type": "markdown",
      "source": [
        "##Condicional Aninhado\n",
        "\n",
        "###Quando o Segundo if só é executado se o primeiro foi TRUE"
      ],
      "metadata": {
        "id": "bfnvnAKmVa2E"
      }
    },
    {
      "cell_type": "code",
      "source": [
        "usuariocerto = \"Lucas\"\n",
        "senhacerta = \"123456\"\n",
        "\n",
        "usuario = input(\"Digite seu usuário: \")\n",
        "senha = input(\"Digite sua senha: \")\n",
        "\n",
        "if(usuario == usuariocerto):\n",
        "  if(senha==senhacerta):\n",
        "    print(\"Usuário logado!\")\n",
        "  else:\n",
        "    print(\"Senha Inválida\")\n",
        "else:\n",
        "    print(\"Usuário Inválido\")"
      ],
      "metadata": {
        "colab": {
          "base_uri": "https://localhost:8080/"
        },
        "id": "qVMun8h4Veec",
        "outputId": "cc4316c5-eebb-4c07-e24f-433bf4a226b6"
      },
      "execution_count": null,
      "outputs": [
        {
          "output_type": "stream",
          "name": "stdout",
          "text": [
            "Digite seu usuário: Lucas\n",
            "Digite sua senha: 123456\n",
            "Usuário logado!\n"
          ]
        }
      ]
    },
    {
      "cell_type": "markdown",
      "source": [
        "##Lista de Exercícios"
      ],
      "metadata": {
        "id": "nSlPdddXb0Xt"
      }
    },
    {
      "cell_type": "markdown",
      "source": [
        "##Exercício 1\n",
        "Faça um programa que solicite ao usuário três valores (lados de um triangulo), verifique se é um triangulo e informe se ele é isóceles, equilatero ou escaleno."
      ],
      "metadata": {
        "id": "pDI8zKUnb6n4"
      }
    },
    {
      "cell_type": "code",
      "source": [
        "lado1 = float(input(\"Digite o primeiro lado do triângulo: \"))\n",
        "lado2 = float(input(\"Digite o segundo lado do triângulo: \"))\n",
        "lado3 = float(input(\"Digite o terceiro lado do triângulo: \"))\n",
        "\n",
        "\n",
        "if (lado1 < lado2 + lado3) and (lado2 < lado1 + lado3) and (lado3 < lado1 + lado2):\n",
        "    print(\"Os lados formam um triângulo.\")\n",
        "\n",
        "\n",
        "    if lado1 == lado2 == lado3:\n",
        "        print(\"Triângulo Equilátero\")\n",
        "    elif lado1 == lado2 or lado2 == lado3 or lado1 == lado3:\n",
        "        print(\"Triângulo Isósceles\")\n",
        "    else:\n",
        "        print(\"Triângulo Escaleno\")\n",
        "else:\n",
        "    print(\"Os lados informados não formam um triângulo.\")"
      ],
      "metadata": {
        "id": "IjQxSdbpfIVf",
        "colab": {
          "base_uri": "https://localhost:8080/"
        },
        "outputId": "9a72f655-a28f-4e6a-d87b-a69ae55d773f"
      },
      "execution_count": null,
      "outputs": [
        {
          "output_type": "stream",
          "name": "stdout",
          "text": [
            "Digite o primeiro lado do triângulo: 10\n",
            "Digite o segundo lado do triângulo: 10\n",
            "Digite o terceiro lado do triângulo: 5\n",
            "Os lados formam um triângulo.\n",
            "Triângulo Isósceles\n"
          ]
        }
      ]
    },
    {
      "cell_type": "markdown",
      "source": [
        "##Exercício 2 Peça para o usuário digitar um valor informe se ele é par ou impar"
      ],
      "metadata": {
        "id": "kfRGOI_YhqGA"
      }
    },
    {
      "cell_type": "code",
      "source": [
        "valor = int(input(\"Digite um valor inteiro: \"))\n",
        "\n",
        "if valor % 2 == 0:\n",
        "    print(\"O número é par.\")\n",
        "else:\n",
        "    print(\"O número é ímpar.\")"
      ],
      "metadata": {
        "colab": {
          "base_uri": "https://localhost:8080/"
        },
        "id": "xOTMK8z8iG9G",
        "outputId": "d8013203-3ac9-42f4-e9a1-04e04f57796c"
      },
      "execution_count": null,
      "outputs": [
        {
          "output_type": "stream",
          "name": "stdout",
          "text": [
            "Digite um valor inteiro: 15\n",
            "O número é ímpar.\n"
          ]
        }
      ]
    },
    {
      "cell_type": "markdown",
      "source": [
        "##Exercício 3 Faça um programa que solicite peso e altura, informe seu IMC. Ao final informe se ele está, abaixo do peso,peso ideal ou acima do peso. fórmula do IMC: (peso/altura^2), siga a tabela abaixo:I"
      ],
      "metadata": {
        "id": "m0nMBCNAiNk-"
      }
    },
    {
      "cell_type": "code",
      "source": [
        "peso = float(input(\"Digite seu peso (kg): \"))\n",
        "altura_str = input(\"Digite sua altura (m): \")\n",
        "altura = float(altura_str.replace(',', '.'))\n",
        "\n",
        "imc = peso / (altura ** 2)\n",
        "print(f\"Seu IMC é: {imc:.2f}\")\n",
        "\n",
        "if imc < 18.5:\n",
        "    print(\"Você está abaixo do peso.\")\n",
        "elif imc >= 18.5 and imc <= 24.9:\n",
        "    print(\"Você está no peso normal.\")\n",
        "elif imc >= 25 and imc <= 29.9:\n",
        "    print(\"Você está com sobrepeso.\")\n",
        "elif imc >= 30 and imc <= 34.9:\n",
        "    print(\"Você está com sobrepeso.\")\n",
        "elif imc >= 30 and imc <= 34.9:\n",
        "    print(\"Você está com obesidade grau 1.\")\n",
        "elif imc >= 35 and imc <= 39.9:\n",
        "    print(\"Você está com obesidade grau 2.\")\n",
        "else:\n",
        "    print(\"Você está com obesidade grau 3.\")"
      ],
      "metadata": {
        "colab": {
          "base_uri": "https://localhost:8080/"
        },
        "id": "UFQ108ezjPyM",
        "outputId": "5ed98a76-1e19-46ec-c094-0c417a9df272"
      },
      "execution_count": null,
      "outputs": [
        {
          "output_type": "stream",
          "name": "stdout",
          "text": [
            "Digite seu peso (kg): 55\n",
            "Digite sua altura (m): 1,70\n",
            "Seu IMC é: 19.03\n",
            "Você está no peso normal.\n"
          ]
        }
      ]
    },
    {
      "cell_type": "markdown",
      "source": [
        "##Exercício 4 caixa Eletrônico com Login e Operações Bancárias\n",
        "\n",
        "Crie um programa que simule um caixa eletrônico. O programa deve:\n",
        "\n",
        "Solicitar ao usuário nome de usuário e senha para acessar a conta bancária (use valores fictícios para usuário e senha, por exemplo, \"cliente\" e \"1234\").\n",
        "\n",
        "Se o usuário ou a senha estiver incorreto, o programa deve bloquear o acesso e exibir a mensagem: \"Usuário ou senha incorretos. Tente novamente.\""
      ],
      "metadata": {
        "id": "10pIHRZmjq6z"
      }
    },
    {
      "cell_type": "code",
      "source": [
        "usuario_correto = \"lucas\"\n",
        "senha_correta = \"1234\"\n",
        "\n",
        "usuario = input(\"Digite o seu usuario: \")\n",
        "senha = input(\"Digite a sua senha: \")\n",
        "\n",
        "if usuario == usuario_correto and senha == senha_correta:\n",
        "  print(\"Acesso permitido, Bem vindo ao caixa eletrônico. \")\n",
        "else:\n",
        "  print(\"Acesso negado. \")"
      ],
      "metadata": {
        "colab": {
          "base_uri": "https://localhost:8080/"
        },
        "id": "5LCcvkOKjyd1",
        "outputId": "f61c015d-566a-40f0-91d6-13ade39bb5ea"
      },
      "execution_count": null,
      "outputs": [
        {
          "output_type": "stream",
          "name": "stdout",
          "text": [
            "Digite o seu usuario: lucas\n",
            "Digite a sua senha: 1234\n",
            "Acesso permitido, Bem vindo ao caixa eletrônico. \n"
          ]
        }
      ]
    },
    {
      "cell_type": "markdown",
      "source": [
        "##Exercício 5 Simulador de Saque e Depósito com Limite\n",
        "\n",
        "Sequência do exercício anterior\n",
        "\n",
        "Deverá ter os valores fixos de\n",
        "\n",
        "Exemplo:\n",
        "\n",
        "limite = 3000\n",
        "\n",
        "saldo = - 50.00\n",
        "\n",
        "Se o login for bem-sucedido, o programa deve exibir as opções de escolha para o usuário de saque, depósito ou ver saldo, e o usuário poderá escolher qual operação deseja realizar."
      ],
      "metadata": {
        "id": "77pfkeGTj_JY"
      }
    },
    {
      "cell_type": "code",
      "source": [
        "usuario_correto = \"lucas\"\n",
        "senha_correta = \"1234\"\n",
        "\n",
        "limite = 3000.00\n",
        "saldo = 1000\n",
        "\n",
        "usuario = input(\"Digite seu usuário: \")\n",
        "senha = input(\"Digite sua senha: \")\n",
        "\n",
        "if usuario == usuario_correto and senha == senha_correta:\n",
        "    print(\"Login realizado com sucesso! \")\n",
        "    print(\"Escolha a operação:\")\n",
        "    print(\"Digite 1 para sacar\")\n",
        "    print(\"Digite 2 para depositar\")\n",
        "    print(\"Digite 3 para ver o saldo\")\n",
        "\n",
        "    escolha = input(\"Sua escolha: \")\n",
        "    if escolha == \"1\":\n",
        "        valor_saque = float(input(\"Digite o valor que deseja sacar: \"))\n",
        "        limite_disponivel = limite + saldo\n",
        "        if valor_saque <= limite_disponivel:\n",
        "            saldo -= valor_saque\n",
        "            print(\"Saque autorizado.\")\n",
        "            print(f\"Saldo atual: R$ {saldo:.2f}\")\n",
        "            if saldo >= 0:\n",
        "                print(\"Seu saldo está positivo.\")\n",
        "            else:\n",
        "                print(f\"Você está usando o limite bancário. Saldo negativo de R$ {abs(saldo):.2f}\")\n",
        "            print(f\"Limite restante: R$ {limite + saldo:.2f}\")\n",
        "        else:\n",
        "            print(\"Saque negado. Valor excede saldo e limite disponíveis.\")\n",
        "            print(f\"Saldo atual: R$ {saldo:.2f}\")\n",
        "            print(f\"Limite restante: R$ {limite + saldo:.2f}\")\n",
        "\n",
        "    elif escolha == \"2\":\n",
        "        valor_deposito = float(input(\"Digite o valor do depósito: \"))\n",
        "        saldo += valor_deposito\n",
        "        print(f\"Depósito realizado com sucesso.\")\n",
        "        print(f\"Saldo atual: R$ {saldo:.2f}\")\n",
        "        print(f\"Limite restante: R$ {limite + saldo:.2f}\")\n",
        "\n",
        "    elif escolha == \"3\":\n",
        "        print(f\"Saldo atual: R$ {saldo:.2f}\")\n",
        "        print(f\"Limite restante: R$ {limite + saldo:.2f}\")\n",
        "        if saldo < 0:\n",
        "            print(f\"Você está usando o limite bancário. Saldo negativo de R$ {abs(saldo):.2f}\")\n",
        "        else:\n",
        "            print(\"Seu saldo está positivo.\")\n",
        "\n",
        "    else:\n",
        "        print(\"Opção inválida. Execute o programa novamente.\")\n",
        "else:\n",
        "    print(\"Usuário ou senha incorretos. Tente novamente.\")\n"
      ],
      "metadata": {
        "colab": {
          "base_uri": "https://localhost:8080/"
        },
        "id": "nhygoiclkNuR",
        "outputId": "800dff33-a8ab-4dba-ded4-a4809343350a"
      },
      "execution_count": null,
      "outputs": [
        {
          "output_type": "stream",
          "name": "stdout",
          "text": [
            "Digite seu usuário: lucas\n",
            "Digite sua senha: 1234\n",
            "Login realizado com sucesso! \n",
            "Escolha a operação:\n",
            "Digite 1 para sacar\n",
            "Digite 2 para depositar\n",
            "Digite 3 para ver o saldo\n",
            "Sua escolha: 1\n",
            "Digite o valor que deseja sacar: 100\n",
            "Saque autorizado.\n",
            "Saldo atual: R$ 900.00\n",
            "Seu saldo está positivo.\n",
            "Limite restante: R$ 3900.00\n"
          ]
        }
      ]
    },
    {
      "cell_type": "markdown",
      "source": [
        "##Exercício 6 Faça um programa que solicite altura e idade do usuário, informe se ele pode ou nao competir.\n",
        "\n",
        "Regras: Para competir no campeonato de vôlei o usuário de ter pelo menos 1.75 de altura e 18 anos."
      ],
      "metadata": {
        "id": "PQT4SmSckh_O"
      }
    },
    {
      "cell_type": "code",
      "source": [
        "altura = float(input(\"Digite sua altura (m): \"))\n",
        "idade = int(input(\"Digite sua idade: \"))\n",
        "\n",
        "if altura >= 1.75 and idade >= 18:\n",
        "    print(\"Você pode competir no campeonato de vôlei.\")\n",
        "else:\n",
        "    print(\"Você não pode competir no campeonato de vôlei.\")"
      ],
      "metadata": {
        "colab": {
          "base_uri": "https://localhost:8080/"
        },
        "id": "ukLJ6eiekrDD",
        "outputId": "f7a2fe2a-c1f4-4cb0-aea8-7098dd35da42"
      },
      "execution_count": null,
      "outputs": [
        {
          "output_type": "stream",
          "name": "stdout",
          "text": [
            "Digite sua altura (m): 1.75\n",
            "Digite sua idade: 15\n",
            "Você não pode competir no campeonato de vôlei.\n"
          ]
        }
      ]
    },
    {
      "cell_type": "markdown",
      "source": [
        "##Exercício 7 Faça um programa que solicite o peso do lutador de Boxe. Informe em que categoria de boxe o usuário está"
      ],
      "metadata": {
        "id": "mec3n2P2k0BG"
      }
    },
    {
      "cell_type": "code",
      "source": [
        "peso = float(input(\"Digite o peso do lutador (em kg): \"))\n",
        "\n",
        "if peso <= 66.7:\n",
        "    print(\"Categoria: Palha (até 66.7 kg)\")\n",
        "elif peso <= 70.3:\n",
        "    print(\"Categoria: Leve (até 70.3 kg)\")\n",
        "elif peso <= 77.1:\n",
        "    print(\"Categoria: Meio Médio (até 77.1 kg)\")\n",
        "elif peso <= 83.9:\n",
        "    print(\"Categoria: Médio (até 83.9 kg)\")\n",
        "elif peso <= 93.0:\n",
        "    print(\"Categoria: Meio Pesado (até 93.0 kg)\")\n",
        "elif peso <= 120.2:\n",
        "    print(\"Categoria: Pesado (até 120.2 kg)\")\n",
        "else:\n",
        "    print(\"Categoria: Super Pesado (acima de 120.2 kg)\")"
      ],
      "metadata": {
        "colab": {
          "base_uri": "https://localhost:8080/"
        },
        "id": "x3m0xhlok74c",
        "outputId": "ce3364a7-b59b-4581-ec8b-b973525567c4"
      },
      "execution_count": null,
      "outputs": [
        {
          "output_type": "stream",
          "name": "stdout",
          "text": [
            "Digite o peso do lutador (em kg): 85\n",
            "Categoria: Meio Pesado (até 93.0 kg)\n"
          ]
        }
      ]
    },
    {
      "cell_type": "markdown",
      "source": [
        "##Exercício 8 Faça um programa que solicite\n",
        "\n",
        "O salário do usuário;"
      ],
      "metadata": {
        "id": "AlQrfQzrmTLO"
      }
    },
    {
      "cell_type": "code",
      "source": [
        "salario = float(input(\"Digite o salário do usuário: R$ \"))\n",
        "\n",
        "if salario <= 1903.98:\n",
        "    print(\"Isento de imposto de renda.\")\n",
        "elif salario <= 2826.65:\n",
        "    print(\"Imposto de Renda: R$ 142.80\")\n",
        "elif salario <= 3751.05:\n",
        "    print(\"Imposto de Renda: R$ 354.80\")\n",
        "elif salario <= 4664.68:\n",
        "    print(\"Imposto de Renda: R$ 636.13\")\n",
        "else:\n",
        "    print(\"Imposto de Renda: R$ 869.36\")"
      ],
      "metadata": {
        "colab": {
          "base_uri": "https://localhost:8080/"
        },
        "id": "HNxh_310mZMz",
        "outputId": "ddb2cd78-22cf-4045-c76a-5f97c4d17979"
      },
      "execution_count": null,
      "outputs": [
        {
          "output_type": "stream",
          "name": "stdout",
          "text": [
            "Digite o salário do usuário: R$ 3000\n",
            "Imposto de Renda: R$ 354.80\n"
          ]
        }
      ]
    },
    {
      "cell_type": "markdown",
      "source": [
        "##Exercício 9 Uma empresa dará aumento para seus funcionários, faça um programa que faça esses cálculos, solicite o salário do funcionário e informe o aumento que o mesmo terá"
      ],
      "metadata": {
        "id": "rKl6ogMMm2m1"
      }
    },
    {
      "cell_type": "code",
      "source": [
        "salario = float(input(\"Digite o salário do funcionário: R$ \"))\n",
        "\n",
        "if salario <= 1500:\n",
        "    aumento = salario * 0.20\n",
        "    novo_salario = salario + aumento\n",
        "    print(\"Aumento de 20% aplicado.\")\n",
        "elif salario <= 3000:\n",
        "    aumento = salario * 0.15\n",
        "    novo_salario = salario + aumento\n",
        "    print(\"Aumento de 15% aplicado.\")\n",
        "else:\n",
        "    aumento = salario * 0.10\n",
        "    novo_salario = salario + aumento\n",
        "    print(\"Aumento de 10% aplicado.\")\n",
        "\n",
        "print(f\"Novo salário: R$ {novo_salario:.2f}\")"
      ],
      "metadata": {
        "colab": {
          "base_uri": "https://localhost:8080/"
        },
        "id": "X1u_VO16m7ly",
        "outputId": "b00135c4-8ced-409e-8f44-968838d9931b"
      },
      "execution_count": null,
      "outputs": [
        {
          "output_type": "stream",
          "name": "stdout",
          "text": [
            "Digite o salário do funcionário: R$ 1800\n",
            "Aumento de 15% aplicado.\n",
            "Novo salário: R$ 2070.00\n"
          ]
        }
      ]
    },
    {
      "cell_type": "markdown",
      "source": [
        "##Exercício 10 Simulador de frete inteligente\n",
        "\n",
        "Peça o peso do pacote (em kg) e a distância (em km) de sua cidade até o local de entrega.Calcule o frete com base em regras:\n",
        "\n",
        "Até 2kg → R$5 por 100km\n",
        "\n",
        "De 2kg a 5kg → R$8 por 100km\n",
        "\n",
        "Acima de 5kg → R$10 por 100km\n",
        "\n",
        "Exemplo de saída:\n",
        "\n",
        "\"Para um pacote de 3kg viajando 350km, o valor do frete será R$28,00\""
      ],
      "metadata": {
        "id": "pqpW906unDaW"
      }
    },
    {
      "cell_type": "code",
      "source": [
        "peso = float(input(\"Digite o peso do pacote (kg): \"))\n",
        "distancia = float(input(\"Digite a distância até o local de entrega (km): \"))\n",
        "\n",
        "\n",
        "if peso <= 2:\n",
        "    valor_por_100km = 5\n",
        "elif peso <= 5:\n",
        "    valor_por_100km = 8\n",
        "else:\n",
        "    valor_por_100km = 10\n",
        "\n",
        "frete = (distancia / 100) * valor_por_100km\n",
        "\n",
        "print(f\"Para um pacote de {peso}kg viajando {distancia}km, o valor do frete será R${frete:.2f}\")"
      ],
      "metadata": {
        "colab": {
          "base_uri": "https://localhost:8080/"
        },
        "id": "ZSXsgF2GnNu1",
        "outputId": "9d5a8faa-1349-43b6-ce7b-17f17d080f8f"
      },
      "execution_count": null,
      "outputs": [
        {
          "output_type": "stream",
          "name": "stdout",
          "text": [
            "Digite o peso do pacote (kg): 80\n",
            "Digite a distância até o local de entrega (km): 150\n",
            "Para um pacote de 80.0kg viajando 150.0km, o valor do frete será R$15.00\n"
          ]
        }
      ]
    }
  ]
}