{
  "nbformat": 4,
  "nbformat_minor": 0,
  "metadata": {
    "colab": {
      "provenance": [],
      "include_colab_link": true
    },
    "kernelspec": {
      "name": "python3",
      "display_name": "Python 3"
    },
    "language_info": {
      "name": "python"
    }
  },
  "cells": [
    {
      "cell_type": "markdown",
      "metadata": {
        "id": "view-in-github",
        "colab_type": "text"
      },
      "source": [
        "<a href=\"https://colab.research.google.com/github/lucasfreitas14/PA_2025/blob/main/Lista_de_exerc%C3%ADcios_Operadores_L%C3%B3gicos_e_Realcionais.ipynb\" target=\"_parent\"><img src=\"https://colab.research.google.com/assets/colab-badge.svg\" alt=\"Open In Colab\"/></a>"
      ]
    },
    {
      "cell_type": "markdown",
      "source": [
        "# Antes de Qualquer coisa Salve uma cópia no seu drive para não perder os códigos"
      ],
      "metadata": {
        "id": "u7J214bEGDpV"
      }
    },
    {
      "cell_type": "markdown",
      "source": [
        "## vá em arquivos: Salvar uma cópia no Drive"
      ],
      "metadata": {
        "id": "zT3Nb6BfGL56"
      }
    },
    {
      "cell_type": "markdown",
      "source": [
        "#Lista de exercícios - Operadores Lógicos e Relacionais\n",
        "\n"
      ],
      "metadata": {
        "id": "IfPXF-sV3xLF"
      }
    },
    {
      "cell_type": "markdown",
      "source": [
        "Em Python, usamos operadores relacionais e lógicos para fazer comparações e tomar decisões com base em condições. Eles são fundamentais na construção de estruturas de controle como if, while e outras."
      ],
      "metadata": {
        "id": "eIwxJUSq3I9d"
      }
    },
    {
      "cell_type": "markdown",
      "source": [
        "✅ Operadores Relacionais\n",
        "\n",
        "Os operadores relacionais comparam dois valores e retornam um resultado booleano (ou seja, True ou False).\n",
        "\n",
        "**Veja os principais:**\n",
        "\n",
        "\"==\" → verifica se dois valores são iguais\n",
        "\n",
        "\"!=\" → verifica se dois valores são diferentes\n",
        "\n",
        "\">\" → verifica se o valor da esquerda é maior\n",
        "\n",
        "\"<\" → verifica se o valor da esquerda é menor\n",
        "\n",
        "\">=\" → verifica se é maior ou igual\n",
        "\n",
        "\"<=\" → verifica se é menor ou igual\n",
        "\n",
        "✅ Operadores Lógicos\n",
        "\n",
        "Os operadores lógicos são usados para combinar condições. Eles também retornam valores booleanos e são muito úteis quando precisamos verificar mais de uma condição ao mesmo tempo.\n",
        "\n",
        "and (E): Retorna True somente se todas as condições forem verdadeiras\n",
        "\n",
        "or (OU): Retorna True se pelo menos uma das condições for verdadeira\n",
        "\n",
        "not (NÃO): Inverte o valor lógico de uma expressão"
      ],
      "metadata": {
        "id": "wZu_EmmK318x"
      }
    },
    {
      "cell_type": "markdown",
      "source": [
        "## Veja os exemplos abaixo - Execute os códigos um a um para entender, troque os valores para ficar mais fácil o entendimento"
      ],
      "metadata": {
        "id": "8vX8RQvs4dsQ"
      }
    },
    {
      "cell_type": "code",
      "source": [
        "# Operadores Relacionais\n",
        "#  1. Igualdade (==) e Diferença (!=)\n",
        "a = 10\n",
        "b = 5\n",
        "\n",
        "print(a == b)\n",
        "print(a != b)"
      ],
      "metadata": {
        "id": "xNVmeRUMU3OU"
      },
      "execution_count": null,
      "outputs": []
    },
    {
      "cell_type": "markdown",
      "source": [
        "## Aplicação em senhas"
      ],
      "metadata": {
        "id": "5CIZb32GBgh3"
      }
    },
    {
      "cell_type": "code",
      "source": [
        "#entrada\n",
        "senhacerta=\"gostopython\"\n",
        "senha = input(\"Digite a senha: \")\n",
        "#processamento\n",
        "logado = senhacerta == senha\n",
        "#saída\n",
        "print(\"Está logado? \", logado)\n"
      ],
      "metadata": {
        "id": "ihCaXz_WBRNX"
      },
      "execution_count": null,
      "outputs": []
    },
    {
      "cell_type": "code",
      "source": [],
      "metadata": {
        "id": "pxJu0p-fa9A4"
      },
      "execution_count": null,
      "outputs": []
    },
    {
      "cell_type": "code",
      "source": [
        "# 2. Comparações (> , < , >= , <=)\n",
        "x = 8\n",
        "y = 12\n",
        "\n",
        "print(\"X é maior que Y?\", x > y)\n",
        "print(\"X é menor que Y?\",x < y)\n",
        "print(\"X é maior ou igual e Y?\",x >= 8)\n",
        "print(\"X é menor ou igual a Y?\",y <= 10)"
      ],
      "metadata": {
        "id": "fLAmvGGTVhPm",
        "outputId": "6da594c5-c72b-416c-a895-cb3b59bbbe16",
        "colab": {
          "base_uri": "https://localhost:8080/"
        }
      },
      "execution_count": null,
      "outputs": [
        {
          "output_type": "stream",
          "name": "stdout",
          "text": [
            "X é maior que Y? False\n",
            "X é menor que Y? True\n",
            "X é maior ou igual e Y? True\n",
            "X é menor ou igual a Y? False\n"
          ]
        }
      ]
    },
    {
      "cell_type": "markdown",
      "source": [
        "## aplicação do exemplo anterior mais operador lógico"
      ],
      "metadata": {
        "id": "Vy3Q7wF8Cl40"
      }
    },
    {
      "cell_type": "code",
      "source": [
        "# 3. Operador \"AND\" (E) - Ambos precisam ser verdadeiros\n",
        "idade = 11\n",
        "tem_autorizacao = True\n",
        "\n",
        "podentrar = (idade >= 12 and tem_autorizacao)\n",
        "\n",
        "print(\"Pode entrar no evento?\", podentrar)\n"
      ],
      "metadata": {
        "id": "9dj-xWQ1WOe4"
      },
      "execution_count": null,
      "outputs": []
    },
    {
      "cell_type": "markdown",
      "source": [
        "## Com entrada de dados pelo Teclado"
      ],
      "metadata": {
        "id": "MNGl1vEvCSPN"
      }
    },
    {
      "cell_type": "code",
      "source": [
        "idade = int(input(\"Qual sua idade?\"))\n",
        "autorizacao = input(\"Trouxe autorização do seus responsáveis?\") #resposta tem que ser True ou False\n",
        "\n",
        "podentrar = (idade >= 12 and tem_autorizacao)\n",
        "\n",
        "print(\"Pode entrar no evento?\", podentrar)\n"
      ],
      "metadata": {
        "id": "nSqIDj2u-Rpw"
      },
      "execution_count": null,
      "outputs": []
    },
    {
      "cell_type": "markdown",
      "source": [
        "## outra forma de fazer o mesmo exercício, usando outra entrada de dados\n"
      ],
      "metadata": {
        "id": "uNuVUBkrCXpK"
      }
    },
    {
      "cell_type": "code",
      "source": [
        "idade = int(input(\"Qual sua idade? \"))\n",
        "autorizacao = int(input(\"Trouxe autorização do seus responsáveis?\\nDigite 1 para sim \\nDigite 2 para não: \"))\n",
        "\n",
        "verificacao = autorizacao==1\n",
        "\n",
        "podentrar = (idade >= 12 and verificacao)\n",
        "\n",
        "print(\"Pode entrar no evento?\", podentrar)"
      ],
      "metadata": {
        "id": "711Kvx27-4fm"
      },
      "execution_count": null,
      "outputs": []
    },
    {
      "cell_type": "code",
      "source": [
        "# 4. Operador \"OR\" (OU) - Basta um ser verdadeiro\n",
        "tem_ingresso = False\n",
        "nome_na_lista = False\n",
        "\n",
        "podeentrar = tem_ingresso or nome_na_lista\n",
        "\n",
        "print(\"Pode entrar na festa? \", podeentrar )"
      ],
      "metadata": {
        "id": "pR0TrqcMWx1f"
      },
      "execution_count": null,
      "outputs": []
    },
    {
      "cell_type": "code",
      "source": [
        "# 5. Operador \"NOT\" (NÃO) - Inverte o valor\n",
        "chovendo = True\n",
        "\n",
        "print(not chovendo)"
      ],
      "metadata": {
        "id": "g5C5xYyMW_rZ"
      },
      "execution_count": null,
      "outputs": []
    },
    {
      "cell_type": "code",
      "source": [
        "# 6. Misturando Relacionais + Lógicos\n",
        "nota = 7\n",
        "presenca = 65\n",
        "\n",
        "print(nota >= 6 and presenca >= 75)\n"
      ],
      "metadata": {
        "id": "MCpdGwU1XETi"
      },
      "execution_count": null,
      "outputs": []
    },
    {
      "cell_type": "markdown",
      "source": [
        "##Exemplo: Soma de 3 valores com desconto automático (sem if)\n",
        "\n",
        "O usuário terá desconto se a soma dos valores for maior que R$ 1000,00"
      ],
      "metadata": {
        "id": "t0n3Ajr-Ebfw"
      }
    },
    {
      "cell_type": "code",
      "source": [
        "# 7. com cálculos no meio.\n",
        "\n",
        "# Solicita três valores ao usuário\n",
        "v1 = float(input(\"Digite o valor do primeiro produto: \"))\n",
        "v2 = float(input(\"Digite o valor do segundo produto:  \"))\n",
        "v3 = float(input(\"Digite o valor do terceiro produto:  \"))\n",
        "\n",
        "# Soma total\n",
        "total = v1 + v2 + v3\n",
        "\n",
        "desconto =(total >= 1000)\n",
        "\n",
        "print(\"Vai ter desconto? \", desconto)"
      ],
      "metadata": {
        "id": "GpzpYjATEH_1"
      },
      "execution_count": null,
      "outputs": []
    },
    {
      "cell_type": "markdown",
      "source": [
        "##Seguindo os exemplos anteriores.  Faça os outros em seguida:\n",
        "\n",
        "# Importante: NÃO USE O CONDICIONAL IF. É obrigatório o uso apenas de operadores lógicos, relacioais e variáveis."
      ],
      "metadata": {
        "id": "MIudH-lZ4g35"
      }
    },
    {
      "cell_type": "markdown",
      "source": [
        "1- Solicite ao usuário a idade; Pergunte se está com responsável;\n",
        "\n",
        "Regra: A entrada para o cinema é permitida se a pessoa tiver 14 anos ou mais ou estiver acompanhada de um responsável.\n",
        "\n",
        "Na Saída informa se é True ou False, a possivel entrada no Cinema.\n",
        "\n",
        "Exemplo: Pode entrar no Cinema?....\n",
        "\n",
        "A Resposta esperada sera True ou False"
      ],
      "metadata": {
        "id": "A847ArYB4zIG"
      }
    },
    {
      "cell_type": "code",
      "source": [
        "idade = int(input(\"Digite a sua idade:\"))\n",
        "responsavel = int(input(\"Está com um responsável? \\n Digite 1 para sim \\n Digite 2 para não\"))\n",
        "entrada = idade>=14 or responsavel==1\n",
        "print(\"Pode entrar no cinema?\", entrada)"
      ],
      "metadata": {
        "id": "RWkY0IusDp1F",
        "outputId": "3a45d574-f432-4773-ad97-f95012215289",
        "colab": {
          "base_uri": "https://localhost:8080/"
        }
      },
      "execution_count": null,
      "outputs": [
        {
          "output_type": "stream",
          "name": "stdout",
          "text": [
            "Digite a sua idade:14\n",
            "Está com um responsável? \n",
            " Digite 1 para sim \n",
            " Digite 2 para não1\n",
            "Pode entrar no cinema? True\n"
          ]
        }
      ]
    },
    {
      "cell_type": "markdown",
      "source": [
        "2- Um jogador só recebe promoção se: tiver mais de 1000 pontos OU for assinante premium.\n",
        "* Solicite os pontos na primeira entrada;\n",
        "* Solicite que tipo de assinante ele é;\n",
        "* Na saída informa se é Verdadeiro ou Falso a promoção;"
      ],
      "metadata": {
        "id": "1Z7RsUTF44M5"
      }
    },
    {
      "cell_type": "code",
      "source": [
        "pontos = float(input(\"Digite quantos pontos você tem:\"))\n",
        "assinatura = int(input(\"Você é assinante premium?\\n Digite 1 para sim Digite 2 para não:\"))\n",
        "promocao = pontos>1000 or assinatura==1\n",
        "print(\"O jogador tem direito a promoção:\", promocao)"
      ],
      "metadata": {
        "id": "QRHx7-KtDqVZ",
        "outputId": "a835180a-ee25-4ec1-fe9c-10c0eaf30471",
        "colab": {
          "base_uri": "https://localhost:8080/"
        }
      },
      "execution_count": null,
      "outputs": [
        {
          "output_type": "stream",
          "name": "stdout",
          "text": [
            "Digite quantos pontos você tem:750\n",
            "Você é assinante premium?\n",
            " Digite 1 para sim Digite 2 para não:2\n",
            "O jogador tem direito a promoção: False\n"
          ]
        }
      ]
    },
    {
      "cell_type": "markdown",
      "source": [
        "3- Solicite um valor ao usuário.\n",
        "* Verifique se o número que o usuário digitou está entre 10 e 20\n",
        "* Na saída infome se é verdadeiro ou falso. }Exemplo saída. \"O número está entre 10 e 20\". A resposta será True ou False."
      ],
      "metadata": {
        "id": "tAFfmQ8u459E"
      }
    },
    {
      "cell_type": "code",
      "source": [
        "numero = float(input(\"Digite um número: \"))\n",
        "resultado = numero > 10 and numero < 20\n",
        "print(\"O número está entre 10 e 20:\", resultado)"
      ],
      "metadata": {
        "id": "6WjvOAV_DqsF",
        "outputId": "a365b02c-fe75-47a0-f5f0-6d92edf02236",
        "colab": {
          "base_uri": "https://localhost:8080/"
        }
      },
      "execution_count": null,
      "outputs": [
        {
          "output_type": "stream",
          "name": "stdout",
          "text": [
            "Digite um número: 15\n",
            "O número está entre 10 e 20: True\n"
          ]
        }
      ]
    },
    {
      "cell_type": "markdown",
      "source": [
        "4- Solicite a idade da pessoa, e pergunte quanto ela tem em dinheiro.\n",
        "\n",
        "* A pessoa pode fazer uma viagem se: tiver mais de 18 anos E tiver mais de R$ 2000,00\n",
        "\n",
        "* Na Saída informe se é Verdeiro ou falso A possibilidade da Viagem. Exemplo: Vai viajar? - O retorno será True or False"
      ],
      "metadata": {
        "id": "gx_l2c025hNr"
      }
    },
    {
      "cell_type": "code",
      "source": [
        "idade = int(input(\"Digite sua idade: \"))\n",
        "dinheiro = float(input(\"Quanto você tem em dinheiro? R$ \"))\n",
        "pode_viajar = idade > 18 and dinheiro > 2000\n",
        "print(\"Vai viajar?\", pode_viajar)"
      ],
      "metadata": {
        "id": "__EsZX4nDrF8",
        "outputId": "1c1bf878-8ac3-4f9b-c7f7-7039fafe3e3f",
        "colab": {
          "base_uri": "https://localhost:8080/"
        }
      },
      "execution_count": null,
      "outputs": [
        {
          "output_type": "stream",
          "name": "stdout",
          "text": [
            "Digite sua idade: 20\n",
            "Quanto você tem em dinheiro? R$ 1500\n",
            "Vai viajar? False\n"
          ]
        }
      ]
    },
    {
      "cell_type": "markdown",
      "source": [
        "5- Solicite a idade da pessoa, e pergunte quanto ela tem em dinheiro e agora pergunte se ela vai viajar com os pais.\n",
        "\n",
        "* A pessoa pode fazer uma viagem se: (tiver mais de 18 anos E tiver mais de R$ 2000,00) ou se ela estiver com os pais.\n",
        "\n",
        "* Na Saída informe se é Verdeiro ou falso A possibilidade da Viagem. Exemplo: Vai viajar? - O retorno será True or False\n"
      ],
      "metadata": {
        "id": "e4zE89vu6AsO"
      }
    },
    {
      "cell_type": "code",
      "source": [
        "idade = int(input(\"Digite sua idade: \"))\n",
        "dinheiro = float(input(\"Quanto você tem em dinheiro? R$ \"))\n",
        "com_pais = int(input(\"Você vai viajar com os pais?\\nDigite 1 para SIM ou 2 para NÃO: \"))\n",
        "\n",
        "vai_viajar = (idade > 18 and dinheiro > 2000) or com_pais == 1\n",
        "print(\"Vai viajar?\", vai_viajar)"
      ],
      "metadata": {
        "id": "FIj0zQUXDrif",
        "outputId": "76ff2f77-c002-4e11-8c8e-88d72c0eb1a5",
        "colab": {
          "base_uri": "https://localhost:8080/"
        }
      },
      "execution_count": null,
      "outputs": [
        {
          "output_type": "stream",
          "name": "stdout",
          "text": [
            "Digite sua idade: 15\n",
            "Quanto você tem em dinheiro? R$ 0\n",
            "Você vai viajar com os pais?\n",
            "Digite 1 para SIM ou 2 para NÃO: 1\n",
            "Vai viajar? True\n"
          ]
        }
      ]
    },
    {
      "cell_type": "markdown",
      "source": [
        "6-Solicite três notas ao usuário e calcule a média e também solicite quantos dias letivos tem no ano e quantas faltas ele teve.\n",
        "\n",
        "* Calcule a média (somando as notas e dividindo por 3)\n",
        "* Calcule o percential de faltas (Divida a quantidade de faltas pela quantidade de dias letivos e multiplique por 100).\n",
        "* Depois subtraia de 100 esse valor e obterá o percentual de presença\n",
        "\n",
        "Exemplo se o aluno faltou 5 vezes em 100 dias letivos:\n",
        "\n",
        "faltas = 5/100, obterá: 0,05, que multiplicando por 100 será 5.\n",
        "result = faltas * 100. Ou seja, 5% de faltas.\n",
        "\n",
        "percentual = 100 - result. Valor obtido nesse caso será 95, que representa 95% de presença.\n",
        "\n",
        "\n",
        "* Para passar de ano, o aluno precisa de nota maior ou igual a 6 E presença maior ou igual a 75%\n",
        "\n",
        "* Na saída informe se é verdadeiro ou falso que ele irá passar de ano. Exemplo: Vai passar de Ano? Ira ter como resposta: True or False\n"
      ],
      "metadata": {
        "id": "YwP3YbWN41v1"
      }
    },
    {
      "cell_type": "code",
      "source": [
        "nota1 = int(input(\"Digite a sua nota 1:\"))\n",
        "nota2 = int(input(\"Digite a sua nota 2:\"))\n",
        "nota3 = int(input(\"Digite a sua nota 3:\"))\n",
        "letivos = int(input(\"Digite quantos dias letivos tem no ano:\"))\n",
        "faltas = int(input(\"Digite quantas faltas você teve:\"))\n",
        "media = (nota1+nota2+nota3)/3\n",
        "percentual = 100-((faltas/letivos)*100)\n",
        "aprovado = media>=6 and percentual>=75\n",
        "print(\"Vai passar de ano?\", aprovado)"
      ],
      "metadata": {
        "id": "BjfMiCxRDr-h",
        "outputId": "d794024c-13a2-4d18-9438-091ac6bf1e6a",
        "colab": {
          "base_uri": "https://localhost:8080/"
        }
      },
      "execution_count": null,
      "outputs": [
        {
          "output_type": "stream",
          "name": "stdout",
          "text": [
            "Digite a sua nota 1:10\n",
            "Digite a sua nota 2:7\n",
            "Digite a sua nota 3:9\n",
            "Digite quantos dias letivos tem no ano:100\n",
            "Digite quantas faltas você teve:10\n",
            "Vai passar de ano? True\n"
          ]
        }
      ]
    },
    {
      "cell_type": "markdown",
      "source": [
        "7) Peça para o usuário digitar um valor informe se ele é par ou impar"
      ],
      "metadata": {
        "id": "IOXzmuPgzrUz"
      }
    },
    {
      "cell_type": "code",
      "source": [
        "numero = int(input(\"Digite um número: \"))\n",
        "par = numero % 2 == 0\n",
        "print(\"O número é par?\", par)"
      ],
      "metadata": {
        "id": "W3s-pjSNzuxj",
        "outputId": "d206e955-9ced-4115-d6e7-f3a6b65b6cc8",
        "colab": {
          "base_uri": "https://localhost:8080/"
        }
      },
      "execution_count": null,
      "outputs": [
        {
          "output_type": "stream",
          "name": "stdout",
          "text": [
            "Digite um número: 10\n",
            "O número é par? True\n"
          ]
        }
      ]
    },
    {
      "cell_type": "markdown",
      "source": [
        "8 ) Faça um algoritmo em Python que receba o valor de três lados de um possível triângulo (l1, l2 e l3) e utilize operadores relacionais e lógicos para:\n",
        "\n",
        "1.\tVerificar se os valores informados podem formar um triângulo.\n",
        "2.\tIdentificar se o triângulo é equilátero, escaleno ou isósceles.\n",
        "\n",
        "O programa deve atribuir True ou False para cada uma das seguintes variáveis:\n",
        "* triangulo: True se os lados puderem formar um triângulo.\n",
        "* equilatero: True se o triângulo for equilátero.\n",
        "* escaleno: True se o triângulo for escaleno.\n",
        "* isosceles: True se o triângulo for isósceles.\n",
        "\n",
        "Dica: Um triângulo só é possível se a soma de dois lados for maior que o terceiro, para os três pares possíveis.\n",
        "\n",
        "Lógica necessária\n",
        "\n",
        "Para ser um triângulo:\n",
        "\n",
        "* l1+l2>l3 e\n",
        "* l1+l3>l2l e\n",
        "* l2+l3>l1\n",
        "\n",
        "Tipos de triângulo:\n",
        "* Equilátero: todos os lados iguais.\n",
        "* Escaleno: todos os lados diferentes.\n",
        "* Isósceles: dois lados iguais."
      ],
      "metadata": {
        "id": "fDwuVk9JzvWr"
      }
    },
    {
      "cell_type": "code",
      "source": [
        "lado1 = float(input(\"Digite o valor do lado 1 do triângulo\"))\n",
        "lado2 = float(input(\"Digite o valor do lado 2 do triângulo\"))\n",
        "lado3 = float(input(\"Digite o valor do lado 3 do triângulo\"))\n",
        "\n",
        "triangulo = (lado1+lado2>lado3) and (lado1+lado3>lado2) and (lado2+lado3>lado1)\n",
        "equilatero = triangulo and (lado1==lado2) and (lado1==lado3) and (lado3==lado2)\n",
        "escaleno = triangulo and (lado1!=lado2) and (lado1!=lado3) and (lado3!=lado2)\n",
        "isosceles = triangulo and ( (lado1 == lado2) or (lado1 == lado3) or (lado2 == lado3) ) and (not equilatero)\n",
        "\n",
        "print(\"Os lados informados podem formar um triângulo?\", triangulo)\n",
        "print(\"O triângulo é equilatero?\", equilatero)\n",
        "print(\"O triângulo é escaleno?\", escaleno)\n",
        "print(\"O triângulo é isosceles?\", isosceles)"
      ],
      "metadata": {
        "id": "K57FadkSz1DL",
        "outputId": "4e12c15d-59aa-451b-9059-842344649563",
        "colab": {
          "base_uri": "https://localhost:8080/"
        }
      },
      "execution_count": null,
      "outputs": [
        {
          "output_type": "stream",
          "name": "stdout",
          "text": [
            "Digite o valor do lado 1 do triângulo20\n",
            "Digite o valor do lado 2 do triângulo20\n",
            "Digite o valor do lado 3 do triângulo30\n",
            "Os lados informados podem formar um triângulo? True\n",
            "O triângulo é equilatero? False\n",
            "O triângulo é escaleno? False\n",
            "O triângulo é isosceles? True\n"
          ]
        }
      ]
    },
    {
      "cell_type": "markdown",
      "source": [
        "9) Faça um programa que solicite peso e altura, informe seu IMC. Ao final informe se ele está, abaixo do peso,peso ideal ou acima do peso. fórmula do IMC: (peso/altura^2), siga a tabela abaixo:\n",
        "\n",
        "IMC \t                    \n",
        "* Menos do que 18,5 ==> Abaixo do Peso\n",
        "* Entre 18,5 e 24,9  ==>Peso normal\n",
        "* Entre 25 e 29,9  ==> \tSobrepeso\n",
        "* Entre 30 e 34,9  ==> \tObesidade grau 1\n",
        "* Entre 35 e 39,9  ==> \tObesidade grau 2\n",
        "* Mais do que 40 \t  ==> Obesidade grau 3"
      ],
      "metadata": {
        "id": "ymt6F0gqz2E7"
      }
    },
    {
      "cell_type": "code",
      "source": [
        "peso = float(input(\"Digite o seu atual peso:\"))\n",
        "altura = float(input(\"Digite sua atual altura:\"))\n",
        "imc = (peso/altura**2)\n",
        "print(f\"O seu IMC é {imc:.2f}\")\n",
        "\n",
        "abaixopeso = imc<18.5\n",
        "pesonormal = 18.5 <= imc <= 24.9\n",
        "sobrepeso = 25 <= imc <= 29.9\n",
        "obesidadegrau1 = 30 <= 30 <= imc <= 34.9\n",
        "obesidadegrau2 = 35 <= imc <= 39.9\n",
        "obesidadegrau3 = imc >= 40\n",
        "\n",
        "print(\"Está abaixo do peso?\", abaixopeso)\n",
        "print(\"Está com peso normal?\", pesonormal)\n",
        "print(\"Está com sobrepeso?\", sobrepeso)\n",
        "print(\"Está com obesidade grau 1?\", obesidadegrau1)\n",
        "print(\"Está com obesidade grau 2?\", obesidadegrau2)\n",
        "print(\"Está com obesidade grau 3?\", obesidadegrau3)"
      ],
      "metadata": {
        "id": "RDkZYCOVz50b",
        "outputId": "a11f45c4-cf67-47eb-f3ed-519806f3fae9",
        "colab": {
          "base_uri": "https://localhost:8080/"
        }
      },
      "execution_count": null,
      "outputs": [
        {
          "output_type": "stream",
          "name": "stdout",
          "text": [
            "Digite o seu atual peso:58\n",
            "Digite sua atual altura:1.75\n",
            "O seu IMC é 18.94\n",
            "Está abaixo do peso? False\n",
            "Está com peso normal? True\n",
            "Está com sobrepeso? False\n",
            "Está com obesidade grau 1? False\n",
            "Está com obesidade grau 2? False\n",
            "Está com obesidade grau 3? False\n"
          ]
        }
      ]
    },
    {
      "cell_type": "markdown",
      "source": [
        "10) Faça um programa que solicite altura e idade do usuário, informe se ele pode ou nao competir. Regras: Para competir no campeonato de vôlei o usuário de ter pelo menos 1.75 de altura e 18 anos."
      ],
      "metadata": {
        "id": "29dWEOf3z9hj"
      }
    },
    {
      "cell_type": "code",
      "source": [
        "altura = float(input(\"Digite sua altura em metros (ex: 1.75): \"))\n",
        "idade = int(input(\"Digite sua idade: \"))\n",
        "pode_competir = altura >= 1.75 and idade >= 18\n",
        "print(\"Pode competir?\", pode_competir)"
      ],
      "metadata": {
        "id": "GmDaYiUvz_TZ",
        "outputId": "413d0142-5eea-4ca5-fab9-66951a92bb17",
        "colab": {
          "base_uri": "https://localhost:8080/"
        }
      },
      "execution_count": null,
      "outputs": [
        {
          "output_type": "stream",
          "name": "stdout",
          "text": [
            "Digite sua altura em metros (ex: 1.75): 1.80\n",
            "Digite sua idade: 18\n",
            "Pode competir? True\n"
          ]
        }
      ]
    }
  ]
}