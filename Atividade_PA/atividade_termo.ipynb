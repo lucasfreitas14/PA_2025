{
  "nbformat": 4,
  "nbformat_minor": 0,
  "metadata": {
    "colab": {
      "provenance": [],
      "authorship_tag": "ABX9TyNBe7V0N3oxCGNKWF5t+4Iv",
      "include_colab_link": true
    },
    "kernelspec": {
      "name": "python3",
      "display_name": "Python 3"
    },
    "language_info": {
      "name": "python"
    }
  },
  "cells": [
    {
      "cell_type": "markdown",
      "metadata": {
        "id": "view-in-github",
        "colab_type": "text"
      },
      "source": [
        "<a href=\"https://colab.research.google.com/github/lucasfreitas14/PA_2025/blob/main/Atividade_PA/atividade_termo.ipynb\" target=\"_parent\"><img src=\"https://colab.research.google.com/assets/colab-badge.svg\" alt=\"Open In Colab\"/></a>"
      ]
    },
    {
      "cell_type": "markdown",
      "source": [
        "##Atividade PA dia 26/09/2025"
      ],
      "metadata": {
        "id": "DXDZmMQ2N7EE"
      }
    },
    {
      "cell_type": "markdown",
      "source": [
        "Desenvolver um jogo interativo de adivinhação de palavras semelhante ao \"Termo\", onde o jogador deve descobrir uma palavra secreta de 5 letras em até 6 tentativas. O jogo deve dar dicas após cada tentativa, informando se as letras estão corretas, na posição correta ou incorreta."
      ],
      "metadata": {
        "id": "lR_h2HzXOCeA"
      }
    },
    {
      "cell_type": "code",
      "source": [
        "# Jogo estilo \"Termo\"\n",
        "\n",
        "palavra_secreta = \"piano\"\n",
        "\n",
        "tentativas = 0\n",
        "max_tentativas = 6\n",
        "\n",
        "print(\"=== Jogo de Adivinhação ===\")\n",
        "print(\"Descubra a palavra de 5 letras! Você tem 6 tentativas.\\n\")\n",
        "\n",
        "while tentativas < max_tentativas:\n",
        "    palpite = input(\"Digite sua palavra: \").lower()\n",
        "\n",
        "    if len(palpite) != 5:\n",
        "        print(\"A palavra deve ter 5 letras.\\n\")\n",
        "        continue\n",
        "\n",
        "    resultado = \"\"\n",
        "    for i in range(5):\n",
        "        if palpite[i] == palavra_secreta[i]:\n",
        "            resultado += \"🟩\"\n",
        "        elif palpite[i] in palavra_secreta:\n",
        "            resultado += \"🟨\"\n",
        "        else:\n",
        "            resultado += \"⬜\"\n",
        "\n",
        "    print(palpite.upper(), resultado)\n",
        "\n",
        "    tentativas += 1\n",
        "\n",
        "    if palpite == palavra_secreta:\n",
        "        print(\"\\nParabéns! Você acertou a palavra!\")\n",
        "        break\n",
        "\n",
        "if palpite != palavra_secreta:\n",
        "    print(\"\\nVocê não conseguiu. A palavra era:\", palavra_secreta.upper())"
      ],
      "metadata": {
        "colab": {
          "base_uri": "https://localhost:8080/"
        },
        "id": "-AssswR_OFgS",
        "outputId": "98e1ef2d-1f1d-4e1a-f9e3-1e913b75b134"
      },
      "execution_count": null,
      "outputs": [
        {
          "output_type": "stream",
          "name": "stdout",
          "text": [
            "=== Jogo de Adivinhação ===\n",
            "Descubra a palavra de 5 letras! Você tem 6 tentativas.\n",
            "\n",
            "Digite sua palavra: Areio\n",
            "AREIO 🟨⬜⬜🟨🟩\n",
            "Digite sua palavra: Pinta\n",
            "PINTA 🟩🟩🟨⬜🟨\n",
            "Digite sua palavra: Ciano\n",
            "CIANO ⬜🟩🟩🟩🟩\n",
            "Digite sua palavra: Piano\n",
            "PIANO 🟩🟩🟩🟩🟩\n",
            "\n",
            "Parabéns! Você acertou a palavra!\n"
          ]
        }
      ]
    }
  ]
}