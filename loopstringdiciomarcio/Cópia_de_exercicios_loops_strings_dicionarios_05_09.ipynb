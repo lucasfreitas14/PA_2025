{
  "cells": [
    {
      "cell_type": "markdown",
      "metadata": {
        "id": "view-in-github",
        "colab_type": "text"
      },
      "source": [
        "<a href=\"https://colab.research.google.com/github/lucasfreitas14/PA_2025/blob/main/loopstringdiciomarcio/C%C3%B3pia_de_exercicios_loops_strings_dicionarios_05_09.ipynb\" target=\"_parent\"><img src=\"https://colab.research.google.com/assets/colab-badge.svg\" alt=\"Open In Colab\"/></a>"
      ]
    },
    {
      "cell_type": "markdown",
      "id": "50e41763",
      "metadata": {
        "id": "50e41763"
      },
      "source": [
        "# Lista de Exercícios - Python (Loops, Strings e Dicionários)\n",
        "Este notebook contém 15 exercícios para praticar `for`, `while`, manipulação de **strings** e **dicionários`."
      ]
    },
    {
      "cell_type": "markdown",
      "id": "6c5e8da0",
      "metadata": {
        "id": "6c5e8da0"
      },
      "source": [
        "### 1. **Contagem de vogais**: Peça uma palavra e conte quantas vezes cada vogal aparece (usar `for` ou `while`)."
      ]
    },
    {
      "cell_type": "code",
      "execution_count": 8,
      "id": "15f84469",
      "metadata": {
        "id": "15f84469",
        "colab": {
          "base_uri": "https://localhost:8080/"
        },
        "outputId": "79bea800-1d35-469f-b6cf-50a5c20388fe"
      },
      "outputs": [
        {
          "output_type": "stream",
          "name": "stdout",
          "text": [
            "Digite uma palavra: peixe\n",
            "{'a': 0, 'e': 2, 'i': 1, 'o': 0, 'u': 0}\n"
          ]
        }
      ],
      "source": [
        "palavra= str(input(\"Digite uma palavra: \")).lower()\n",
        "vogais= \"aeiou\"\n",
        "contagem = {v:0 for v in vogais}\n",
        "for letra in palavra:\n",
        "  if letra in vogais:\n",
        "    contagem[letra]= contagem[letra]+ 1\n",
        "print(contagem)"
      ]
    },
    {
      "cell_type": "markdown",
      "id": "2446d942",
      "metadata": {
        "id": "2446d942"
      },
      "source": [
        "### 2. **Inversão de string**: Solicite uma frase e mostre-a invertida **sem usar slicing** (`[::-1]` não vale). Use `while`."
      ]
    },
    {
      "cell_type": "code",
      "execution_count": 24,
      "id": "4bd947d4",
      "metadata": {
        "id": "4bd947d4",
        "colab": {
          "base_uri": "https://localhost:8080/"
        },
        "outputId": "150ca135-9675-4588-9f03-660ee54db8a7"
      },
      "outputs": [
        {
          "output_type": "stream",
          "name": "stdout",
          "text": [
            "Digite uma frase: socorram me subi no onibus em marrocos\n",
            " socorram me subino on ibus em marrocos\n"
          ]
        }
      ],
      "source": [
        "frase = str(input(\"Digite uma frase: \"))\n",
        "inversa= \" \"\n",
        "i = len(frase)-1\n",
        "\n",
        "while i>= 0:\n",
        "  inversa += frase[i]\n",
        "  i -= 1\n",
        "print(inversa)"
      ]
    },
    {
      "cell_type": "markdown",
      "id": "096a5b5d",
      "metadata": {
        "id": "096a5b5d"
      },
      "source": [
        "### 3. **Frequência de caracteres**: Dada uma string, crie um dicionário que mostre quantas vezes cada caractere aparece."
      ]
    },
    {
      "cell_type": "code",
      "execution_count": 29,
      "id": "bd28dd49",
      "metadata": {
        "id": "bd28dd49",
        "colab": {
          "base_uri": "https://localhost:8080/"
        },
        "outputId": "dbd5dde5-3c0b-4877-e5cb-561ada618910"
      },
      "outputs": [
        {
          "output_type": "stream",
          "name": "stdout",
          "text": [
            "Digite uma Frase: peixe frito\n",
            "{'p': 1, 'e': 2, 'i': 2, 'x': 1, ' ': 1, 'f': 1, 'r': 1, 't': 1, 'o': 1}\n"
          ]
        }
      ],
      "source": [
        "frase= str(input(\"Digite uma Frase: \"))\n",
        "dic= {}\n",
        "for letra in frase:\n",
        "  dic[letra]= dic.get(letra, 0)+1\n",
        "print(dic)"
      ]
    },
    {
      "cell_type": "markdown",
      "id": "d046cc57",
      "metadata": {
        "id": "d046cc57"
      },
      "source": [
        "### 4. **Palavras únicas**: Peça uma frase e mostre as palavras que aparecem **apenas uma vez**."
      ]
    },
    {
      "cell_type": "code",
      "execution_count": 32,
      "id": "092bef79",
      "metadata": {
        "id": "092bef79",
        "colab": {
          "base_uri": "https://localhost:8080/"
        },
        "outputId": "d01789a4-9fdd-49d2-c509-36e62356c6b4"
      },
      "outputs": [
        {
          "output_type": "stream",
          "name": "stdout",
          "text": [
            "Digite uma frase: eu apostei no molas bet no mamao papaia\n",
            "eu\n",
            "apostei\n",
            "molas\n",
            "bet\n",
            "mamao\n",
            "papaia\n"
          ]
        }
      ],
      "source": [
        "texto= str(input(\"Digite uma frase: \")).split()\n",
        "for palavra in texto:\n",
        "  if texto.count(palavra) == 1:\n",
        "    print(palavra)"
      ]
    },
    {
      "cell_type": "markdown",
      "id": "3ea99323",
      "metadata": {
        "id": "3ea99323"
      },
      "source": [
        "### 5. **Substituição manual**: Peça uma string e duas letras: substitua **manualmente** todas as ocorrências da primeira letra pela segunda, usando laço."
      ]
    },
    {
      "cell_type": "code",
      "execution_count": 33,
      "id": "4d1406be",
      "metadata": {
        "id": "4d1406be",
        "colab": {
          "base_uri": "https://localhost:8080/"
        },
        "outputId": "cbd89e2c-0053-4648-fe11-df0c1ffdf5df"
      },
      "outputs": [
        {
          "output_type": "stream",
          "name": "stdout",
          "text": [
            "Digite sua frase: eu aprendo python\n",
            "Digite a letra para substituir: o\n",
            "Digite a letra substituta: i\n",
            " eu aprendi pythin\n"
          ]
        }
      ],
      "source": [
        "texto= str(input(\"Digite sua frase: \"))\n",
        "escolha= str(input(\"Digite a letra para substituir: \"))\n",
        "subs= str(input(\"Digite a letra substituta: \"))\n",
        "final= \" \"\n",
        "for letra in texto:\n",
        "  if letra == escolha:\n",
        "    final += subs\n",
        "  else:\n",
        "    final += letra\n",
        "\n",
        "print(final)"
      ]
    },
    {
      "cell_type": "markdown",
      "id": "870e9e64",
      "metadata": {
        "id": "870e9e64"
      },
      "source": [
        "### 6. **Palíndromo**: Verifique se uma palavra é um **palíndromo** sem usar funções prontas de reversão."
      ]
    },
    {
      "cell_type": "code",
      "execution_count": 39,
      "id": "87824151",
      "metadata": {
        "id": "87824151",
        "colab": {
          "base_uri": "https://localhost:8080/"
        },
        "outputId": "3d171e74-84ed-461d-9b18-df3d756eb4a4"
      },
      "outputs": [
        {
          "output_type": "stream",
          "name": "stdout",
          "text": [
            "Digite uma palavra: arara\n",
            "É Palíndromo\n"
          ]
        }
      ],
      "source": [
        "palavra= str(input(\"Digite uma palavra: \"))\n",
        "inversa= \"\"\n",
        "for letra in palavra:\n",
        "  inversa= letra + inversa\n",
        "if inversa == palavra:\n",
        "  print(\"É Palíndromo\")\n",
        "else:\n",
        "  print(\"Não é Palíndromo\")"
      ]
    },
    {
      "cell_type": "markdown",
      "id": "ce1b0e1f",
      "metadata": {
        "id": "ce1b0e1f"
      },
      "source": [
        "### 7. **Enigma da senha**: Peça uma string e crie uma nova palavra pegando apenas as letras nas **posições ímpares**."
      ]
    },
    {
      "cell_type": "code",
      "execution_count": 43,
      "id": "9fc744d2",
      "metadata": {
        "id": "9fc744d2",
        "colab": {
          "base_uri": "https://localhost:8080/"
        },
        "outputId": "0df094bd-548e-452e-aad3-aa1ea6db0327"
      },
      "outputs": [
        {
          "output_type": "stream",
          "name": "stdout",
          "text": [
            "Digite uma senhaimpar\n",
            " ipr\n"
          ]
        }
      ],
      "source": [
        "senha= input(\"Digite uma senha\")\n",
        "senhanova= \" \"\n",
        "for i in range(len(senha)):\n",
        "  if i % 2 == 0:\n",
        "    senhanova += senha[i]\n",
        "print(senhanova)"
      ]
    },
    {
      "cell_type": "markdown",
      "id": "42fe1350",
      "metadata": {
        "id": "42fe1350"
      },
      "source": [
        "### 8. **Expansão de abreviações**: Dado um dicionário de abreviações, substitua manualmente cada ocorrência em uma frase.\n",
        "\n",
        "(Ex: (vc: você, blz: beleza ..."
      ]
    },
    {
      "cell_type": "code",
      "execution_count": 50,
      "id": "e63acd2a",
      "metadata": {
        "id": "e63acd2a",
        "colab": {
          "base_uri": "https://localhost:8080/"
        },
        "outputId": "dad460da-4c3d-4601-dc74-e73a016ad914"
      },
      "outputs": [
        {
          "output_type": "stream",
          "name": "stdout",
          "text": [
            "Digite uma frase: vc\n",
            "você\n"
          ]
        }
      ],
      "source": [
        "dic = {\"vc\": \"você\", \"blz\": \"beleza\", \"pdp\": \"pode pá\", \"gnt\": \"gente\", \"pprt\": \"papo reto\"}\n",
        "frase= str(input(\"Digite uma frase: \"))\n",
        "for abreviacao in dic:\n",
        "  frase= frase.replace(abreviacao, dic[abreviacao])\n",
        "print(frase)"
      ]
    },
    {
      "cell_type": "markdown",
      "id": "3cf96a02",
      "metadata": {
        "id": "3cf96a02"
      },
      "source": [
        "### 9. **Criptografia simples**: Implemente uma cifra de substituição onde cada letra é trocada pela **próxima no alfabeto** (z → a)."
      ]
    },
    {
      "cell_type": "code",
      "execution_count": 52,
      "id": "c8a0d724",
      "metadata": {
        "id": "c8a0d724",
        "colab": {
          "base_uri": "https://localhost:8080/"
        },
        "outputId": "40f0ab91-9104-42a4-9d95-d5dd473352ef"
      },
      "outputs": [
        {
          "output_type": "stream",
          "name": "stdout",
          "text": [
            "Digite uma frase: abc\n",
            " bcd\n"
          ]
        }
      ],
      "source": [
        "frase= str(input(\"Digite uma frase: \"))\n",
        "cifra= \"abcdefghijklmnopqrstuvwxyz\"\n",
        "cifra_cesar= \"bcdefghijklmnopqrstuvwxyza\"\n",
        "resultado= \" \"\n",
        "\n",
        "for letra in frase:\n",
        "  if letra in frase:\n",
        "    resultado += cifra_cesar[cifra.index(letra)]\n",
        "  else:\n",
        "    resultado += letra\n",
        "print(resultado)"
      ]
    },
    {
      "cell_type": "markdown",
      "id": "4897443b",
      "metadata": {
        "id": "4897443b"
      },
      "source": [
        "### 10. **Anagrama**: Verifique se duas palavras são **anagramas**, usando dicionário para contar ocorrências."
      ]
    },
    {
      "cell_type": "code",
      "execution_count": 55,
      "id": "4c53848e",
      "metadata": {
        "id": "4c53848e",
        "colab": {
          "base_uri": "https://localhost:8080/"
        },
        "outputId": "61f14489-061d-49fe-96df-02affbe27667"
      },
      "outputs": [
        {
          "output_type": "stream",
          "name": "stdout",
          "text": [
            " Digite uma palavra: gato\n",
            " Digite uma palavra: rato\n",
            "Não é Anagrama\n"
          ]
        }
      ],
      "source": [
        "frase = str(input(\" Digite uma palavra: \"))\n",
        "frase1 = str(input(\" Digite uma palavra: \"))\n",
        "contagem= {}\n",
        "contagem1= {}]\n",
        "for letra in frase:\n",
        "  if letra in contagem:\n",
        "    contagem[letra]+=1\n",
        "  else:\n",
        "    contagem[letra]= 1\n",
        "for letra in frase1:\n",
        "  if letra in contagem1:\n",
        "    contagem1[letra]+=1\n",
        "  else:\n",
        "    contagem1[letra]= 1\n",
        "if contagem == contagem1:\n",
        "  print(\"É Anagrama\")\n",
        "else:\n",
        "  print(\"Não é Anagrama\")"
      ]
    }
  ],
  "metadata": {
    "colab": {
      "provenance": [],
      "include_colab_link": true
    },
    "language_info": {
      "name": "python"
    },
    "kernelspec": {
      "name": "python3",
      "display_name": "Python 3"
    }
  },
  "nbformat": 4,
  "nbformat_minor": 5
}